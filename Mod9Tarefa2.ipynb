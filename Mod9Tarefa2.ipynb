{
 "cells": [
  {
   "cell_type": "markdown",
   "metadata": {},
   "source": [
    "# Livro para consulta:\n",
    "- https://jakevdp.github.io/PythonDataScienceHandbook/03.08-aggregation-and-grouping.html\n",
    "- https://jakevdp.github.io/PythonDataScienceHandbook/03.09-pivot-tables.html\n",
    "    "
   ]
  },
  {
   "cell_type": "markdown",
   "metadata": {},
   "source": [
    "# Importando bibliotecas <a name=\"import\"></a>\n",
    "\n",
    "<div style=\"text-align: right\"\n",
    "     \n",
    "[Voltar ao índice](#Contents)"
   ]
  },
  {
   "cell_type": "code",
   "execution_count": 1075,
   "metadata": {
    "ExecuteTime": {
     "end_time": "2021-06-06T21:12:37.298706Z",
     "start_time": "2021-06-06T21:12:36.656481Z"
    }
   },
   "outputs": [],
   "source": [
    "import numpy as np\n",
    "import pandas as pd\n",
    "import seaborn as sns\n",
    "import matplotlib.pyplot as plt\n",
    "\n",
    "%matplotlib inline"
   ]
  },
  {
   "cell_type": "markdown",
   "metadata": {},
   "source": [
    "# Carregando o dataframe SINASC <a name=\"read\"></a>\n",
    "<div style=\"text-align: right\"\n",
    "     \n",
    "[Voltar ao índice](#Contents)"
   ]
  },
  {
   "cell_type": "code",
   "execution_count": 1076,
   "metadata": {
    "ExecuteTime": {
     "end_time": "2021-06-06T21:12:37.762376Z",
     "start_time": "2021-06-06T21:12:37.728383Z"
    },
    "scrolled": true
   },
   "outputs": [
    {
     "data": {
      "text/html": [
       "<div>\n",
       "<style scoped>\n",
       "    .dataframe tbody tr th:only-of-type {\n",
       "        vertical-align: middle;\n",
       "    }\n",
       "\n",
       "    .dataframe tbody tr th {\n",
       "        vertical-align: top;\n",
       "    }\n",
       "\n",
       "    .dataframe thead th {\n",
       "        text-align: right;\n",
       "    }\n",
       "</style>\n",
       "<table border=\"1\" class=\"dataframe\">\n",
       "  <thead>\n",
       "    <tr style=\"text-align: right;\">\n",
       "      <th></th>\n",
       "      <th>ORIGEM</th>\n",
       "      <th>CODESTAB</th>\n",
       "      <th>CODMUNNASC</th>\n",
       "      <th>LOCNASC</th>\n",
       "      <th>IDADEMAE</th>\n",
       "      <th>ESTCIVMAE</th>\n",
       "      <th>ESCMAE</th>\n",
       "      <th>CODOCUPMAE</th>\n",
       "      <th>QTDFILVIVO</th>\n",
       "      <th>QTDFILMORT</th>\n",
       "      <th>...</th>\n",
       "      <th>KOTELCHUCK</th>\n",
       "      <th>CONTADOR</th>\n",
       "      <th>munResStatus</th>\n",
       "      <th>munResTipo</th>\n",
       "      <th>munResNome</th>\n",
       "      <th>munResUf</th>\n",
       "      <th>munResLat</th>\n",
       "      <th>munResLon</th>\n",
       "      <th>munResAlt</th>\n",
       "      <th>munResArea</th>\n",
       "    </tr>\n",
       "  </thead>\n",
       "  <tbody>\n",
       "    <tr>\n",
       "      <th>0</th>\n",
       "      <td>1</td>\n",
       "      <td>2679477.0</td>\n",
       "      <td>110001</td>\n",
       "      <td>1</td>\n",
       "      <td>19</td>\n",
       "      <td>5.0</td>\n",
       "      <td>8 a 11 anos</td>\n",
       "      <td>NaN</td>\n",
       "      <td>0.0</td>\n",
       "      <td>0.0</td>\n",
       "      <td>...</td>\n",
       "      <td>5</td>\n",
       "      <td>1</td>\n",
       "      <td>ATIVO</td>\n",
       "      <td>MUNIC</td>\n",
       "      <td>Alta Floresta D'Oeste</td>\n",
       "      <td>Rondônia</td>\n",
       "      <td>-11.93554</td>\n",
       "      <td>-61.99982</td>\n",
       "      <td>338.0</td>\n",
       "      <td>7067.025</td>\n",
       "    </tr>\n",
       "    <tr>\n",
       "      <th>1</th>\n",
       "      <td>1</td>\n",
       "      <td>2679477.0</td>\n",
       "      <td>110001</td>\n",
       "      <td>1</td>\n",
       "      <td>29</td>\n",
       "      <td>2.0</td>\n",
       "      <td>8 a 11 anos</td>\n",
       "      <td>999992.0</td>\n",
       "      <td>1.0</td>\n",
       "      <td>0.0</td>\n",
       "      <td>...</td>\n",
       "      <td>5</td>\n",
       "      <td>2</td>\n",
       "      <td>ATIVO</td>\n",
       "      <td>MUNIC</td>\n",
       "      <td>Alta Floresta D'Oeste</td>\n",
       "      <td>Rondônia</td>\n",
       "      <td>-11.93554</td>\n",
       "      <td>-61.99982</td>\n",
       "      <td>338.0</td>\n",
       "      <td>7067.025</td>\n",
       "    </tr>\n",
       "    <tr>\n",
       "      <th>2</th>\n",
       "      <td>1</td>\n",
       "      <td>2679477.0</td>\n",
       "      <td>110001</td>\n",
       "      <td>1</td>\n",
       "      <td>37</td>\n",
       "      <td>9.0</td>\n",
       "      <td>8 a 11 anos</td>\n",
       "      <td>513205.0</td>\n",
       "      <td>2.0</td>\n",
       "      <td>0.0</td>\n",
       "      <td>...</td>\n",
       "      <td>5</td>\n",
       "      <td>3</td>\n",
       "      <td>ATIVO</td>\n",
       "      <td>MUNIC</td>\n",
       "      <td>Alta Floresta D'Oeste</td>\n",
       "      <td>Rondônia</td>\n",
       "      <td>-11.93554</td>\n",
       "      <td>-61.99982</td>\n",
       "      <td>338.0</td>\n",
       "      <td>7067.025</td>\n",
       "    </tr>\n",
       "    <tr>\n",
       "      <th>3</th>\n",
       "      <td>1</td>\n",
       "      <td>2516500.0</td>\n",
       "      <td>110001</td>\n",
       "      <td>1</td>\n",
       "      <td>30</td>\n",
       "      <td>5.0</td>\n",
       "      <td>12 anos ou mais</td>\n",
       "      <td>231205.0</td>\n",
       "      <td>0.0</td>\n",
       "      <td>0.0</td>\n",
       "      <td>...</td>\n",
       "      <td>4</td>\n",
       "      <td>4</td>\n",
       "      <td>ATIVO</td>\n",
       "      <td>MUNIC</td>\n",
       "      <td>Alto Alegre dos Parecis</td>\n",
       "      <td>Rondônia</td>\n",
       "      <td>-12.13178</td>\n",
       "      <td>-61.85308</td>\n",
       "      <td>397.0</td>\n",
       "      <td>3958.273</td>\n",
       "    </tr>\n",
       "    <tr>\n",
       "      <th>4</th>\n",
       "      <td>1</td>\n",
       "      <td>2516500.0</td>\n",
       "      <td>110001</td>\n",
       "      <td>1</td>\n",
       "      <td>30</td>\n",
       "      <td>2.0</td>\n",
       "      <td>8 a 11 anos</td>\n",
       "      <td>999992.0</td>\n",
       "      <td>1.0</td>\n",
       "      <td>0.0</td>\n",
       "      <td>...</td>\n",
       "      <td>5</td>\n",
       "      <td>5</td>\n",
       "      <td>ATIVO</td>\n",
       "      <td>MUNIC</td>\n",
       "      <td>Alta Floresta D'Oeste</td>\n",
       "      <td>Rondônia</td>\n",
       "      <td>-11.93554</td>\n",
       "      <td>-61.99982</td>\n",
       "      <td>338.0</td>\n",
       "      <td>7067.025</td>\n",
       "    </tr>\n",
       "  </tbody>\n",
       "</table>\n",
       "<p>5 rows × 69 columns</p>\n",
       "</div>"
      ],
      "text/plain": [
       "   ORIGEM   CODESTAB  CODMUNNASC  LOCNASC  IDADEMAE  ESTCIVMAE  \\\n",
       "0       1  2679477.0      110001        1        19        5.0   \n",
       "1       1  2679477.0      110001        1        29        2.0   \n",
       "2       1  2679477.0      110001        1        37        9.0   \n",
       "3       1  2516500.0      110001        1        30        5.0   \n",
       "4       1  2516500.0      110001        1        30        2.0   \n",
       "\n",
       "            ESCMAE  CODOCUPMAE  QTDFILVIVO  QTDFILMORT  ...  KOTELCHUCK  \\\n",
       "0      8 a 11 anos         NaN         0.0         0.0  ...           5   \n",
       "1      8 a 11 anos    999992.0         1.0         0.0  ...           5   \n",
       "2      8 a 11 anos    513205.0         2.0         0.0  ...           5   \n",
       "3  12 anos ou mais    231205.0         0.0         0.0  ...           4   \n",
       "4      8 a 11 anos    999992.0         1.0         0.0  ...           5   \n",
       "\n",
       "  CONTADOR munResStatus munResTipo               munResNome  munResUf  \\\n",
       "0        1        ATIVO      MUNIC    Alta Floresta D'Oeste  Rondônia   \n",
       "1        2        ATIVO      MUNIC    Alta Floresta D'Oeste  Rondônia   \n",
       "2        3        ATIVO      MUNIC    Alta Floresta D'Oeste  Rondônia   \n",
       "3        4        ATIVO      MUNIC  Alto Alegre dos Parecis  Rondônia   \n",
       "4        5        ATIVO      MUNIC    Alta Floresta D'Oeste  Rondônia   \n",
       "\n",
       "   munResLat munResLon  munResAlt  munResArea  \n",
       "0  -11.93554 -61.99982      338.0    7067.025  \n",
       "1  -11.93554 -61.99982      338.0    7067.025  \n",
       "2  -11.93554 -61.99982      338.0    7067.025  \n",
       "3  -12.13178 -61.85308      397.0    3958.273  \n",
       "4  -11.93554 -61.99982      338.0    7067.025  \n",
       "\n",
       "[5 rows x 69 columns]"
      ]
     },
     "execution_count": 1076,
     "metadata": {},
     "output_type": "execute_result"
    }
   ],
   "source": [
    "sinasc_raw = pd.read_csv('SINASC_RO_2019.csv')\n",
    "sinasc_raw.head()"
   ]
  },
  {
   "cell_type": "code",
   "execution_count": 1077,
   "metadata": {},
   "outputs": [
    {
     "data": {
      "text/plain": [
       "Index(['ORIGEM', 'CODESTAB', 'CODMUNNASC', 'LOCNASC', 'IDADEMAE', 'ESTCIVMAE',\n",
       "       'ESCMAE', 'CODOCUPMAE', 'QTDFILVIVO', 'QTDFILMORT', 'CODMUNRES',\n",
       "       'GESTACAO', 'GRAVIDEZ', 'PARTO', 'CONSULTAS', 'DTNASC', 'HORANASC',\n",
       "       'SEXO', 'APGAR1', 'APGAR5', 'RACACOR', 'PESO', 'IDANOMAL', 'DTCADASTRO',\n",
       "       'CODANOMAL', 'NUMEROLOTE', 'VERSAOSIST', 'DTRECEBIM', 'DIFDATA',\n",
       "       'DTRECORIGA', 'NATURALMAE', 'CODMUNNATU', 'CODUFNATU', 'ESCMAE2010',\n",
       "       'SERIESCMAE', 'DTNASCMAE', 'RACACORMAE', 'QTDGESTANT', 'QTDPARTNOR',\n",
       "       'QTDPARTCES', 'IDADEPAI', 'DTULTMENST', 'SEMAGESTAC', 'TPMETESTIM',\n",
       "       'CONSPRENAT', 'MESPRENAT', 'TPAPRESENT', 'STTRABPART', 'STCESPARTO',\n",
       "       'TPNASCASSI', 'TPFUNCRESP', 'TPDOCRESP', 'DTDECLARAC', 'ESCMAEAGR1',\n",
       "       'STDNEPIDEM', 'STDNNOVA', 'CODPAISRES', 'TPROBSON', 'PARIDADE',\n",
       "       'KOTELCHUCK', 'CONTADOR', 'munResStatus', 'munResTipo', 'munResNome',\n",
       "       'munResUf', 'munResLat', 'munResLon', 'munResAlt', 'munResArea'],\n",
       "      dtype='object')"
      ]
     },
     "execution_count": 1077,
     "metadata": {},
     "output_type": "execute_result"
    }
   ],
   "source": [
    "sinasc_raw.columns"
   ]
  },
  {
   "cell_type": "markdown",
   "metadata": {},
   "source": [
    "# Tarefa 2"
   ]
  },
  {
   "cell_type": "markdown",
   "metadata": {},
   "source": [
    "## Crie 2 faixas de Latitude do município (munResLat) sendo uma acima e outra abaixo de -10.5 e aplique o groupby usando essas faixas como chave e realize operações de soma, media, minimo, maximo, mediana, desvio padrao, variancia pra pelo menos 2 variáveis numéricas ainda não utilizadas"
   ]
  },
  {
   "cell_type": "code",
   "execution_count": 1078,
   "metadata": {},
   "outputs": [
    {
     "data": {
      "text/plain": [
       "-8.76889     8437\n",
       "-10.88205    2182\n",
       "-9.90846     1729\n",
       "-12.74137    1590\n",
       "-11.43387    1374\n",
       "-11.72226     927\n",
       "-10.43595     881\n",
       "-10.77388     781\n",
       "-10.72357     631\n",
       "-11.67754     616\n",
       "-10.20981     583\n",
       "-9.42556      500\n",
       "-11.52855     450\n",
       "-10.41177     432\n",
       "-11.93554     367\n",
       "-11.69949     353\n",
       "-8.78502      337\n",
       "-11.17321     304\n",
       "-12.06380     303\n",
       "-11.72133     261\n",
       "-13.19503     237\n",
       "-12.43601     233\n",
       "-9.71667      226\n",
       "-13.13056     214\n",
       "-11.34413     205\n",
       "-9.37819      205\n",
       "-10.26310     199\n",
       "-11.12855     170\n",
       "-11.76712     168\n",
       "-10.56842     166\n",
       "-11.04561     164\n",
       "-12.55684     162\n",
       "-12.13178     154\n",
       "-12.99752     127\n",
       "-10.61207     112\n",
       "-9.19187      109\n",
       "-10.91553     104\n",
       "-11.90842      99\n",
       "-11.70974      98\n",
       "-10.24873      97\n",
       "-9.85139       93\n",
       "-11.19624      84\n",
       "-10.43105      81\n",
       "-13.49976      80\n",
       "-10.33887      75\n",
       "-10.93217      64\n",
       "-11.91439      54\n",
       "-9.70554       50\n",
       "-12.17983      44\n",
       "-11.82571      43\n",
       "-13.47656      40\n",
       "-11.42684      32\n",
       "Name: munResLat, dtype: int64"
      ]
     },
     "execution_count": 1078,
     "metadata": {},
     "output_type": "execute_result"
    }
   ],
   "source": [
    "sinasc_raw.munResLat.value_counts()"
   ]
  },
  {
   "cell_type": "code",
   "execution_count": 1079,
   "metadata": {},
   "outputs": [],
   "source": [
    "sinasc_2 = sinasc_raw[['munResLat', 'QTDFILVIVO', 'APGAR1']]"
   ]
  },
  {
   "cell_type": "code",
   "execution_count": 1080,
   "metadata": {},
   "outputs": [
    {
     "data": {
      "text/html": [
       "<div>\n",
       "<style scoped>\n",
       "    .dataframe tbody tr th:only-of-type {\n",
       "        vertical-align: middle;\n",
       "    }\n",
       "\n",
       "    .dataframe tbody tr th {\n",
       "        vertical-align: top;\n",
       "    }\n",
       "\n",
       "    .dataframe thead th {\n",
       "        text-align: right;\n",
       "    }\n",
       "</style>\n",
       "<table border=\"1\" class=\"dataframe\">\n",
       "  <thead>\n",
       "    <tr style=\"text-align: right;\">\n",
       "      <th></th>\n",
       "      <th>munResLat</th>\n",
       "      <th>QTDFILVIVO</th>\n",
       "      <th>APGAR1</th>\n",
       "    </tr>\n",
       "  </thead>\n",
       "  <tbody>\n",
       "    <tr>\n",
       "      <th>0</th>\n",
       "      <td>-11.93554</td>\n",
       "      <td>0.0</td>\n",
       "      <td>9.0</td>\n",
       "    </tr>\n",
       "    <tr>\n",
       "      <th>1</th>\n",
       "      <td>-11.93554</td>\n",
       "      <td>1.0</td>\n",
       "      <td>8.0</td>\n",
       "    </tr>\n",
       "    <tr>\n",
       "      <th>2</th>\n",
       "      <td>-11.93554</td>\n",
       "      <td>2.0</td>\n",
       "      <td>8.0</td>\n",
       "    </tr>\n",
       "    <tr>\n",
       "      <th>3</th>\n",
       "      <td>-12.13178</td>\n",
       "      <td>0.0</td>\n",
       "      <td>9.0</td>\n",
       "    </tr>\n",
       "    <tr>\n",
       "      <th>4</th>\n",
       "      <td>-11.93554</td>\n",
       "      <td>1.0</td>\n",
       "      <td>8.0</td>\n",
       "    </tr>\n",
       "  </tbody>\n",
       "</table>\n",
       "</div>"
      ],
      "text/plain": [
       "   munResLat  QTDFILVIVO  APGAR1\n",
       "0  -11.93554         0.0     9.0\n",
       "1  -11.93554         1.0     8.0\n",
       "2  -11.93554         2.0     8.0\n",
       "3  -12.13178         0.0     9.0\n",
       "4  -11.93554         1.0     8.0"
      ]
     },
     "execution_count": 1080,
     "metadata": {},
     "output_type": "execute_result"
    }
   ],
   "source": [
    "sinasc_2.head()"
   ]
  },
  {
   "cell_type": "code",
   "execution_count": 1081,
   "metadata": {},
   "outputs": [
    {
     "data": {
      "text/plain": [
       "munResLat     float64\n",
       "QTDFILVIVO    float64\n",
       "APGAR1        float64\n",
       "dtype: object"
      ]
     },
     "execution_count": 1081,
     "metadata": {},
     "output_type": "execute_result"
    }
   ],
   "source": [
    "sinasc_2.dtypes"
   ]
  },
  {
   "cell_type": "markdown",
   "metadata": {},
   "source": [
    "Como podemos ver, a latitude está em float, sendo assim, vamos precisar primeiro mudar o formato para depois usar o dicionário para agruparmos em duas categorias."
   ]
  },
  {
   "cell_type": "code",
   "execution_count": 1082,
   "metadata": {},
   "outputs": [
    {
     "name": "stderr",
     "output_type": "stream",
     "text": [
      "C:\\Users\\Jonatas\\AppData\\Local\\Temp\\ipykernel_9868\\1002251628.py:1: SettingWithCopyWarning: \n",
      "A value is trying to be set on a copy of a slice from a DataFrame.\n",
      "Try using .loc[row_indexer,col_indexer] = value instead\n",
      "\n",
      "See the caveats in the documentation: https://pandas.pydata.org/pandas-docs/stable/user_guide/indexing.html#returning-a-view-versus-a-copy\n",
      "  sinasc_2['munResLat'] = sinasc_2['munResLat'].astype(str)\n"
     ]
    }
   ],
   "source": [
    "sinasc_2['munResLat'] = sinasc_2['munResLat'].astype(str)"
   ]
  },
  {
   "cell_type": "code",
   "execution_count": 1083,
   "metadata": {},
   "outputs": [
    {
     "data": {
      "text/plain": [
       "munResLat      object\n",
       "QTDFILVIVO    float64\n",
       "APGAR1        float64\n",
       "dtype: object"
      ]
     },
     "execution_count": 1083,
     "metadata": {},
     "output_type": "execute_result"
    }
   ],
   "source": [
    "sinasc_2.dtypes"
   ]
  },
  {
   "cell_type": "code",
   "execution_count": 1084,
   "metadata": {},
   "outputs": [],
   "source": [
    "sinasc_3 = sinasc_2.set_index('munResLat')"
   ]
  },
  {
   "cell_type": "code",
   "execution_count": 1085,
   "metadata": {},
   "outputs": [
    {
     "data": {
      "text/html": [
       "<div>\n",
       "<style scoped>\n",
       "    .dataframe tbody tr th:only-of-type {\n",
       "        vertical-align: middle;\n",
       "    }\n",
       "\n",
       "    .dataframe tbody tr th {\n",
       "        vertical-align: top;\n",
       "    }\n",
       "\n",
       "    .dataframe thead th {\n",
       "        text-align: right;\n",
       "    }\n",
       "</style>\n",
       "<table border=\"1\" class=\"dataframe\">\n",
       "  <thead>\n",
       "    <tr style=\"text-align: right;\">\n",
       "      <th></th>\n",
       "      <th>QTDFILVIVO</th>\n",
       "      <th>APGAR1</th>\n",
       "    </tr>\n",
       "    <tr>\n",
       "      <th>munResLat</th>\n",
       "      <th></th>\n",
       "      <th></th>\n",
       "    </tr>\n",
       "  </thead>\n",
       "  <tbody>\n",
       "    <tr>\n",
       "      <th>-11.93554</th>\n",
       "      <td>0.0</td>\n",
       "      <td>9.0</td>\n",
       "    </tr>\n",
       "    <tr>\n",
       "      <th>-11.93554</th>\n",
       "      <td>1.0</td>\n",
       "      <td>8.0</td>\n",
       "    </tr>\n",
       "    <tr>\n",
       "      <th>-11.93554</th>\n",
       "      <td>2.0</td>\n",
       "      <td>8.0</td>\n",
       "    </tr>\n",
       "    <tr>\n",
       "      <th>-12.13178</th>\n",
       "      <td>0.0</td>\n",
       "      <td>9.0</td>\n",
       "    </tr>\n",
       "    <tr>\n",
       "      <th>-11.93554</th>\n",
       "      <td>1.0</td>\n",
       "      <td>8.0</td>\n",
       "    </tr>\n",
       "  </tbody>\n",
       "</table>\n",
       "</div>"
      ],
      "text/plain": [
       "           QTDFILVIVO  APGAR1\n",
       "munResLat                    \n",
       "-11.93554         0.0     9.0\n",
       "-11.93554         1.0     8.0\n",
       "-11.93554         2.0     8.0\n",
       "-12.13178         0.0     9.0\n",
       "-11.93554         1.0     8.0"
      ]
     },
     "execution_count": 1085,
     "metadata": {},
     "output_type": "execute_result"
    }
   ],
   "source": [
    "sinasc_3.head()"
   ]
  },
  {
   "cell_type": "code",
   "execution_count": 1086,
   "metadata": {},
   "outputs": [
    {
     "data": {
      "text/plain": [
       "QTDFILVIVO    float64\n",
       "APGAR1        float64\n",
       "dtype: object"
      ]
     },
     "execution_count": 1086,
     "metadata": {},
     "output_type": "execute_result"
    }
   ],
   "source": [
    "sinasc_3.dtypes"
   ]
  },
  {
   "cell_type": "code",
   "execution_count": 1087,
   "metadata": {},
   "outputs": [],
   "source": [
    "latitudes = {\n",
    "    '-8.76889':'Abaixo de -10.5',\n",
    "    '-10.88205':'Acima de -10.5',\n",
    "    '-9.90846':'Acima de -10.5',\n",
    "    '-12.74137':'Acima de -10.5',\n",
    "    '-11.43387':'Acima de -10.5',\n",
    "    '-11.72226':'Acima de -10.5',\n",
    "    '-10.43595':'Abaixo de -10.5',\n",
    "    '-10.77388':'Acima de -10.5',\n",
    "    '-10.72357':'Acima de -10.5',\n",
    "    '-11.67754':'Acima de -10.5',\n",
    "    '-10.20981':'Abaixo de -10.5',\n",
    "    '-9.42556':'Abaixo de -10.5',\n",
    "    '-11.52855':'Acima de -10.5',\n",
    "    '-10.41177':'Abaixo de -10.5',\n",
    "    '-11.93554':'Acima de -10.5',\n",
    "    '-11.69949':'Acima de -10.5',\n",
    "    '-8.78502':'Abaixo de -10.5',\n",
    "    '-11.17321':'Acima de -10.5',\n",
    "    '-12.06380':'Acima de -10.5',\n",
    "    '-11.72133':'Acima de -10.5',\n",
    "    '-13.19503':'Acima de -10.5',\n",
    "    '-12.43601':'Acima de -10.5',\n",
    "    '-9.71667':'Abaixo de -10.5',\n",
    "    '-13.13056':'Acima de -10.5',\n",
    "    '-11.34413':'Acima de -10.5',\n",
    "    '-9.37819':'Abaixo de -10.5',\n",
    "    '-10.26310':'Abaixo de -10.5',\n",
    "    '-11.12855':'Acima de -10.5',\n",
    "    '-11.76712':'Acima de -10.5',\n",
    "    '-10.56842':'Acima de -10.5',\n",
    "    '-11.04561':'Acima de -10.5',\n",
    "    '-12.55684':'Acima de -10.5',\n",
    "    '-12.13178':'Acima de -10.5',\n",
    "    '-12.99752':'Acima de -10.5',\n",
    "    '-10.61207':'Acima de -10.5',\n",
    "    '-9.19187':'Abaixo de -10.5',\n",
    "    '-10.91553':'Acima de -10.5',\n",
    "    '-11.90842':'Acima de -10.5',\n",
    "    '-11.70974':'Acima de -10.5',\n",
    "    '-10.24873':'Abaixo de -10.5',\n",
    "    '-9.85139':'Abaixo de -10.5',\n",
    "    '-11.19624':'Acima de -10.5',\n",
    "    '-10.43105':'Abaixo de -10.5',\n",
    "    '-13.49976':'Acima de -10.5',\n",
    "    '-10.33887':'Abaixo de -10.5',\n",
    "    '-10.93217':'Acima de -10.5',\n",
    "    '-11.91439':'Acima de -10.5',\n",
    "    '-9.70554':'Abaixo de -10.5',\n",
    "    '-12.17983':'Acima de -10.5',\n",
    "    '-11.82571':'Acima de -10.5',\n",
    "    '-13.47656':'Acima de -10.5',\n",
    "    '-11.42684':'Acima de -10.5'\n",
    "}"
   ]
  },
  {
   "cell_type": "code",
   "execution_count": 1088,
   "metadata": {},
   "outputs": [
    {
     "data": {
      "text/html": [
       "<div>\n",
       "<style scoped>\n",
       "    .dataframe tbody tr th:only-of-type {\n",
       "        vertical-align: middle;\n",
       "    }\n",
       "\n",
       "    .dataframe tbody tr th {\n",
       "        vertical-align: top;\n",
       "    }\n",
       "\n",
       "    .dataframe thead tr th {\n",
       "        text-align: left;\n",
       "    }\n",
       "\n",
       "    .dataframe thead tr:last-of-type th {\n",
       "        text-align: right;\n",
       "    }\n",
       "</style>\n",
       "<table border=\"1\" class=\"dataframe\">\n",
       "  <thead>\n",
       "    <tr>\n",
       "      <th></th>\n",
       "      <th colspan=\"7\" halign=\"left\">APGAR1</th>\n",
       "      <th colspan=\"7\" halign=\"left\">QTDFILVIVO</th>\n",
       "    </tr>\n",
       "    <tr>\n",
       "      <th></th>\n",
       "      <th>max</th>\n",
       "      <th>mean</th>\n",
       "      <th>median</th>\n",
       "      <th>min</th>\n",
       "      <th>std</th>\n",
       "      <th>sum</th>\n",
       "      <th>var</th>\n",
       "      <th>max</th>\n",
       "      <th>mean</th>\n",
       "      <th>median</th>\n",
       "      <th>min</th>\n",
       "      <th>std</th>\n",
       "      <th>sum</th>\n",
       "      <th>var</th>\n",
       "    </tr>\n",
       "    <tr>\n",
       "      <th>munResLat</th>\n",
       "      <th></th>\n",
       "      <th></th>\n",
       "      <th></th>\n",
       "      <th></th>\n",
       "      <th></th>\n",
       "      <th></th>\n",
       "      <th></th>\n",
       "      <th></th>\n",
       "      <th></th>\n",
       "      <th></th>\n",
       "      <th></th>\n",
       "      <th></th>\n",
       "      <th></th>\n",
       "      <th></th>\n",
       "    </tr>\n",
       "  </thead>\n",
       "  <tbody>\n",
       "    <tr>\n",
       "      <th>Abaixo de -10.5</th>\n",
       "      <td>10.0</td>\n",
       "      <td>8.231753</td>\n",
       "      <td>8.0</td>\n",
       "      <td>0.0</td>\n",
       "      <td>0.963121</td>\n",
       "      <td>99135.0</td>\n",
       "      <td>0.927602</td>\n",
       "      <td>12.0</td>\n",
       "      <td>1.158757</td>\n",
       "      <td>1.0</td>\n",
       "      <td>0.0</td>\n",
       "      <td>1.217683</td>\n",
       "      <td>12379.0</td>\n",
       "      <td>1.482751</td>\n",
       "    </tr>\n",
       "    <tr>\n",
       "      <th>Acima de -10.5</th>\n",
       "      <td>10.0</td>\n",
       "      <td>8.067288</td>\n",
       "      <td>8.0</td>\n",
       "      <td>0.0</td>\n",
       "      <td>0.982321</td>\n",
       "      <td>116056.0</td>\n",
       "      <td>0.964954</td>\n",
       "      <td>30.0</td>\n",
       "      <td>0.975767</td>\n",
       "      <td>1.0</td>\n",
       "      <td>0.0</td>\n",
       "      <td>1.128428</td>\n",
       "      <td>13932.0</td>\n",
       "      <td>1.273350</td>\n",
       "    </tr>\n",
       "  </tbody>\n",
       "</table>\n",
       "</div>"
      ],
      "text/plain": [
       "                APGAR1                                                      \\\n",
       "                   max      mean median  min       std       sum       var   \n",
       "munResLat                                                                    \n",
       "Abaixo de -10.5   10.0  8.231753    8.0  0.0  0.963121   99135.0  0.927602   \n",
       "Acima de -10.5    10.0  8.067288    8.0  0.0  0.982321  116056.0  0.964954   \n",
       "\n",
       "                QTDFILVIVO                                                     \n",
       "                       max      mean median  min       std      sum       var  \n",
       "munResLat                                                                      \n",
       "Abaixo de -10.5       12.0  1.158757    1.0  0.0  1.217683  12379.0  1.482751  \n",
       "Acima de -10.5        30.0  0.975767    1.0  0.0  1.128428  13932.0  1.273350  "
      ]
     },
     "execution_count": 1088,
     "metadata": {},
     "output_type": "execute_result"
    }
   ],
   "source": [
    "sinasc_3.pivot_table(values=['QTDFILVIVO', 'APGAR1'],\n",
    "                     index=[latitudes],\n",
    "                     aggfunc={'QTDFILVIVO':['sum', 'mean', 'min', 'max', 'median', 'var', 'std' ], \n",
    "                              'APGAR1': ['sum', 'mean', 'min', 'max', 'median', 'var', 'std' ]},\n",
    "                     dropna=True)"
   ]
  },
  {
   "cell_type": "markdown",
   "metadata": {},
   "source": [
    "## Crie 2 faixas da área dos municípios (munResArea) sendo uma acima e outra abaixo de 3000 e aplique o groupby usando essas faixas como chave e realize operações de soma, media, minimo, maximo, mediana, desvio padrao, variancia pra pelo menos 2 variáveis numéricas ainda não utilizadas\n"
   ]
  },
  {
   "cell_type": "code",
   "execution_count": 1089,
   "metadata": {},
   "outputs": [],
   "source": [
    "sinasc_4 = sinasc_raw[['munResArea', 'APGAR5', 'APGAR1']]"
   ]
  },
  {
   "cell_type": "code",
   "execution_count": 1090,
   "metadata": {},
   "outputs": [
    {
     "data": {
      "text/html": [
       "<div>\n",
       "<style scoped>\n",
       "    .dataframe tbody tr th:only-of-type {\n",
       "        vertical-align: middle;\n",
       "    }\n",
       "\n",
       "    .dataframe tbody tr th {\n",
       "        vertical-align: top;\n",
       "    }\n",
       "\n",
       "    .dataframe thead th {\n",
       "        text-align: right;\n",
       "    }\n",
       "</style>\n",
       "<table border=\"1\" class=\"dataframe\">\n",
       "  <thead>\n",
       "    <tr style=\"text-align: right;\">\n",
       "      <th></th>\n",
       "      <th>munResArea</th>\n",
       "      <th>APGAR5</th>\n",
       "      <th>APGAR1</th>\n",
       "    </tr>\n",
       "  </thead>\n",
       "  <tbody>\n",
       "    <tr>\n",
       "      <th>0</th>\n",
       "      <td>7067.025</td>\n",
       "      <td>10.0</td>\n",
       "      <td>9.0</td>\n",
       "    </tr>\n",
       "    <tr>\n",
       "      <th>1</th>\n",
       "      <td>7067.025</td>\n",
       "      <td>9.0</td>\n",
       "      <td>8.0</td>\n",
       "    </tr>\n",
       "    <tr>\n",
       "      <th>2</th>\n",
       "      <td>7067.025</td>\n",
       "      <td>10.0</td>\n",
       "      <td>8.0</td>\n",
       "    </tr>\n",
       "    <tr>\n",
       "      <th>3</th>\n",
       "      <td>3958.273</td>\n",
       "      <td>10.0</td>\n",
       "      <td>9.0</td>\n",
       "    </tr>\n",
       "    <tr>\n",
       "      <th>4</th>\n",
       "      <td>7067.025</td>\n",
       "      <td>10.0</td>\n",
       "      <td>8.0</td>\n",
       "    </tr>\n",
       "  </tbody>\n",
       "</table>\n",
       "</div>"
      ],
      "text/plain": [
       "   munResArea  APGAR5  APGAR1\n",
       "0    7067.025    10.0     9.0\n",
       "1    7067.025     9.0     8.0\n",
       "2    7067.025    10.0     8.0\n",
       "3    3958.273    10.0     9.0\n",
       "4    7067.025    10.0     8.0"
      ]
     },
     "execution_count": 1090,
     "metadata": {},
     "output_type": "execute_result"
    }
   ],
   "source": [
    "sinasc_4.head()"
   ]
  },
  {
   "cell_type": "code",
   "execution_count": 1091,
   "metadata": {},
   "outputs": [
    {
     "data": {
      "text/plain": [
       "munResArea    float64\n",
       "APGAR5        float64\n",
       "APGAR1        float64\n",
       "dtype: object"
      ]
     },
     "execution_count": 1091,
     "metadata": {},
     "output_type": "execute_result"
    }
   ],
   "source": [
    "sinasc_4.dtypes"
   ]
  },
  {
   "cell_type": "markdown",
   "metadata": {},
   "source": [
    "Como podemos ver, a 'munResArea' está em float, sendo assim, vamos precisar primeiro mudar o formato para depois usar o dicionário para agruparmos em duas categorias."
   ]
  },
  {
   "cell_type": "code",
   "execution_count": 1092,
   "metadata": {},
   "outputs": [
    {
     "name": "stderr",
     "output_type": "stream",
     "text": [
      "C:\\Users\\Jonatas\\AppData\\Local\\Temp\\ipykernel_9868\\3932317298.py:1: SettingWithCopyWarning: \n",
      "A value is trying to be set on a copy of a slice from a DataFrame.\n",
      "Try using .loc[row_indexer,col_indexer] = value instead\n",
      "\n",
      "See the caveats in the documentation: https://pandas.pydata.org/pandas-docs/stable/user_guide/indexing.html#returning-a-view-versus-a-copy\n",
      "  sinasc_4['munResArea'] = sinasc_4['munResArea'].astype(str)\n"
     ]
    }
   ],
   "source": [
    "sinasc_4['munResArea'] = sinasc_4['munResArea'].astype(str)"
   ]
  },
  {
   "cell_type": "code",
   "execution_count": 1093,
   "metadata": {},
   "outputs": [
    {
     "data": {
      "text/plain": [
       "munResArea     object\n",
       "APGAR5        float64\n",
       "APGAR1        float64\n",
       "dtype: object"
      ]
     },
     "execution_count": 1093,
     "metadata": {},
     "output_type": "execute_result"
    }
   ],
   "source": [
    "sinasc_4.dtypes"
   ]
  },
  {
   "cell_type": "code",
   "execution_count": 1094,
   "metadata": {},
   "outputs": [
    {
     "data": {
      "text/plain": [
       "34096.394    8437\n",
       "6896.648     2182\n",
       "4426.571     1729\n",
       "11518.915    1590\n",
       "3792.998     1374\n",
       "1457.888      927\n",
       "2944.128      881\n",
       "24855.724     781\n",
       "1969.850      631\n",
       "6240.932      616\n",
       "3265.809      583\n",
       "8509.270      500\n",
       "4518.035      450\n",
       "10071.643     432\n",
       "7067.025      367\n",
       "7460.219      353\n",
       "6843.868      337\n",
       "1758.465      304\n",
       "10959.767     303\n",
       "1703.008      261\n",
       "2783.300      237\n",
       "4987.177      233\n",
       "2651.822      226\n",
       "1451.060      214\n",
       "3029.189      205\n",
       "3863.943      205\n",
       "1931.378      199\n",
       "831.857       170\n",
       "3773.505      168\n",
       "3442.005      166\n",
       "1191.875      164\n",
       "5126.723      162\n",
       "3958.273      154\n",
       "3060.321      127\n",
       "5067.384      112\n",
       "4081.583      109\n",
       "807.126       104\n",
       "1197.796       99\n",
       "843.446        98\n",
       "2197.413       97\n",
       "3135.106       93\n",
       "798.083        84\n",
       "965.676        81\n",
       "1314.352       80\n",
       "1961.778       75\n",
       "459.978        64\n",
       "541.647        54\n",
       "1717.640       50\n",
       "2548.683       44\n",
       "605.692        43\n",
       "6014.733       40\n",
       "892.842        32\n",
       "Name: munResArea, dtype: int64"
      ]
     },
     "execution_count": 1094,
     "metadata": {},
     "output_type": "execute_result"
    }
   ],
   "source": [
    "sinasc_raw.munResArea.value_counts()"
   ]
  },
  {
   "cell_type": "code",
   "execution_count": 1095,
   "metadata": {},
   "outputs": [],
   "source": [
    "sinasc_4 = sinasc_4.set_index('munResArea')"
   ]
  },
  {
   "cell_type": "code",
   "execution_count": 1096,
   "metadata": {},
   "outputs": [
    {
     "data": {
      "text/html": [
       "<div>\n",
       "<style scoped>\n",
       "    .dataframe tbody tr th:only-of-type {\n",
       "        vertical-align: middle;\n",
       "    }\n",
       "\n",
       "    .dataframe tbody tr th {\n",
       "        vertical-align: top;\n",
       "    }\n",
       "\n",
       "    .dataframe thead th {\n",
       "        text-align: right;\n",
       "    }\n",
       "</style>\n",
       "<table border=\"1\" class=\"dataframe\">\n",
       "  <thead>\n",
       "    <tr style=\"text-align: right;\">\n",
       "      <th></th>\n",
       "      <th>APGAR5</th>\n",
       "      <th>APGAR1</th>\n",
       "    </tr>\n",
       "    <tr>\n",
       "      <th>munResArea</th>\n",
       "      <th></th>\n",
       "      <th></th>\n",
       "    </tr>\n",
       "  </thead>\n",
       "  <tbody>\n",
       "    <tr>\n",
       "      <th>7067.025</th>\n",
       "      <td>10.0</td>\n",
       "      <td>9.0</td>\n",
       "    </tr>\n",
       "    <tr>\n",
       "      <th>7067.025</th>\n",
       "      <td>9.0</td>\n",
       "      <td>8.0</td>\n",
       "    </tr>\n",
       "    <tr>\n",
       "      <th>7067.025</th>\n",
       "      <td>10.0</td>\n",
       "      <td>8.0</td>\n",
       "    </tr>\n",
       "    <tr>\n",
       "      <th>3958.273</th>\n",
       "      <td>10.0</td>\n",
       "      <td>9.0</td>\n",
       "    </tr>\n",
       "    <tr>\n",
       "      <th>7067.025</th>\n",
       "      <td>10.0</td>\n",
       "      <td>8.0</td>\n",
       "    </tr>\n",
       "  </tbody>\n",
       "</table>\n",
       "</div>"
      ],
      "text/plain": [
       "            APGAR5  APGAR1\n",
       "munResArea                \n",
       "7067.025      10.0     9.0\n",
       "7067.025       9.0     8.0\n",
       "7067.025      10.0     8.0\n",
       "3958.273      10.0     9.0\n",
       "7067.025      10.0     8.0"
      ]
     },
     "execution_count": 1096,
     "metadata": {},
     "output_type": "execute_result"
    }
   ],
   "source": [
    "sinasc_4.head()"
   ]
  },
  {
   "cell_type": "code",
   "execution_count": 1097,
   "metadata": {},
   "outputs": [],
   "source": [
    "area = {\n",
    "    '34096.394' : 'Acima de 3000',\n",
    "    '6896.648' : 'Acima de 3000',\n",
    "    '4426.571' : 'Acima de 3000',\n",
    "    '11518.915' : 'Acima de 3000',\n",
    "    '3792.998' : 'Acima de 3000',\n",
    "    '1457.888' : 'Abaixo de 3000',\n",
    "    '2944.128' : 'Abaixo de 3000',\n",
    "    '24855.724' : 'Acima de 3000',\n",
    "    '1969.850' : 'Abaixo de 3000',\n",
    "    '6240.932' : 'Acima de 3000',\n",
    "    '3265.809' : 'Acima de 3000',\n",
    "    '8509.270' : 'Acima de 3000',\n",
    "    '4518.035' : 'Acima de 3000',\n",
    "    '10071.643' : 'Acima de 3000',\n",
    "    '7067.025' : 'Acima de 3000',\n",
    "    '7460.219' : 'Acima de 3000',\n",
    "    '6843.868' : 'Acima de 3000',\n",
    "    '1758.465' : 'Abaixo de 3000',\n",
    "    '10959.767' : 'Acima de 3000',\n",
    "    '1703.008' : 'Abaixo de 3000',\n",
    "    '2783.300' : 'Abaixo de 3000',\n",
    "    '4987.177' : 'Abaixo de 3000',\n",
    "    '2651.822' : 'Abaixo de 3000',\n",
    "    '1451.060' : 'Abaixo de 3000',\n",
    "    '3029.189' : 'Acima de 3000',\n",
    "    '3863.943' : 'Acima de 3000',\n",
    "    '1931.378' : 'Abaixo de 3000',\n",
    "    '831.857' : 'Abaixo de 3000',\n",
    "    '3773.505' : 'Acima de 3000',\n",
    "    '3442.005' : 'Acima de 3000',\n",
    "    '1191.875' : 'Abaixo de 3000',\n",
    "    '5126.723' : 'Acima de 3000',\n",
    "    '3958.273' : 'Acima de 3000',\n",
    "    '3060.321' : 'Acima de 3000',\n",
    "    '5067.384' : 'Acima de 3000',\n",
    "    '4081.583' : 'Acima de 3000',\n",
    "    '807.126' : 'Abaixo de 3000',\n",
    "    '1197.796' : 'Abaixo de 3000',\n",
    "    '843.446' : 'Abaixo de 3000',\n",
    "    '2197.413' : 'Abaixo de 3000',\n",
    "    '3135.106' : 'Acima de 3000',\n",
    "    '798.083' : 'Abaixo de 3000',\n",
    "    '965.676' : 'Abaixo de 3000',\n",
    "    '1314.352' :  'Abaixo de 3000',\n",
    "    '1961.778' :  'Abaixo de 3000',\n",
    "    '459.978' :  'Abaixo de 3000',\n",
    "    '541.647' : 'Abaixo de 3000',\n",
    "    '1717.640' : 'Abaixo de 3000',\n",
    "    '2548.683' : 'Abaixo de 3000',\n",
    "    '605.692' : 'Abaixo de 3000',\n",
    "    '6014.733' : 'Acima de 3000',\n",
    "    '892.842' : 'Abaixo de 3000'\n",
    "}"
   ]
  },
  {
   "cell_type": "code",
   "execution_count": 1098,
   "metadata": {},
   "outputs": [
    {
     "data": {
      "text/html": [
       "<div>\n",
       "<style scoped>\n",
       "    .dataframe tbody tr th:only-of-type {\n",
       "        vertical-align: middle;\n",
       "    }\n",
       "\n",
       "    .dataframe tbody tr th {\n",
       "        vertical-align: top;\n",
       "    }\n",
       "\n",
       "    .dataframe thead tr th {\n",
       "        text-align: left;\n",
       "    }\n",
       "\n",
       "    .dataframe thead tr:last-of-type th {\n",
       "        text-align: right;\n",
       "    }\n",
       "</style>\n",
       "<table border=\"1\" class=\"dataframe\">\n",
       "  <thead>\n",
       "    <tr>\n",
       "      <th></th>\n",
       "      <th colspan=\"7\" halign=\"left\">APGAR1</th>\n",
       "      <th colspan=\"7\" halign=\"left\">APGAR5</th>\n",
       "    </tr>\n",
       "    <tr>\n",
       "      <th></th>\n",
       "      <th>max</th>\n",
       "      <th>mean</th>\n",
       "      <th>median</th>\n",
       "      <th>min</th>\n",
       "      <th>std</th>\n",
       "      <th>sum</th>\n",
       "      <th>var</th>\n",
       "      <th>max</th>\n",
       "      <th>mean</th>\n",
       "      <th>median</th>\n",
       "      <th>min</th>\n",
       "      <th>std</th>\n",
       "      <th>sum</th>\n",
       "      <th>var</th>\n",
       "    </tr>\n",
       "    <tr>\n",
       "      <th>munResArea</th>\n",
       "      <th></th>\n",
       "      <th></th>\n",
       "      <th></th>\n",
       "      <th></th>\n",
       "      <th></th>\n",
       "      <th></th>\n",
       "      <th></th>\n",
       "      <th></th>\n",
       "      <th></th>\n",
       "      <th></th>\n",
       "      <th></th>\n",
       "      <th></th>\n",
       "      <th></th>\n",
       "      <th></th>\n",
       "    </tr>\n",
       "  </thead>\n",
       "  <tbody>\n",
       "    <tr>\n",
       "      <th>Abaixo de 3000</th>\n",
       "      <td>10.0</td>\n",
       "      <td>8.012520</td>\n",
       "      <td>8.0</td>\n",
       "      <td>0.0</td>\n",
       "      <td>1.024664</td>\n",
       "      <td>34558.0</td>\n",
       "      <td>1.049936</td>\n",
       "      <td>10.0</td>\n",
       "      <td>9.105727</td>\n",
       "      <td>9.0</td>\n",
       "      <td>0.0</td>\n",
       "      <td>0.810956</td>\n",
       "      <td>39273.0</td>\n",
       "      <td>0.657650</td>\n",
       "    </tr>\n",
       "    <tr>\n",
       "      <th>Acima de 3000</th>\n",
       "      <td>10.0</td>\n",
       "      <td>8.166833</td>\n",
       "      <td>8.0</td>\n",
       "      <td>0.0</td>\n",
       "      <td>0.966611</td>\n",
       "      <td>171430.0</td>\n",
       "      <td>0.934338</td>\n",
       "      <td>10.0</td>\n",
       "      <td>9.199304</td>\n",
       "      <td>9.0</td>\n",
       "      <td>0.0</td>\n",
       "      <td>0.779781</td>\n",
       "      <td>193075.0</td>\n",
       "      <td>0.608058</td>\n",
       "    </tr>\n",
       "  </tbody>\n",
       "</table>\n",
       "</div>"
      ],
      "text/plain": [
       "               APGAR1                                                      \\\n",
       "                  max      mean median  min       std       sum       var   \n",
       "munResArea                                                                  \n",
       "Abaixo de 3000   10.0  8.012520    8.0  0.0  1.024664   34558.0  1.049936   \n",
       "Acima de 3000    10.0  8.166833    8.0  0.0  0.966611  171430.0  0.934338   \n",
       "\n",
       "               APGAR5                                                      \n",
       "                  max      mean median  min       std       sum       var  \n",
       "munResArea                                                                 \n",
       "Abaixo de 3000   10.0  9.105727    9.0  0.0  0.810956   39273.0  0.657650  \n",
       "Acima de 3000    10.0  9.199304    9.0  0.0  0.779781  193075.0  0.608058  "
      ]
     },
     "execution_count": 1098,
     "metadata": {},
     "output_type": "execute_result"
    }
   ],
   "source": [
    "sinasc_4.pivot_table(values=['APGAR5', 'APGAR1'],\n",
    "                     index=[area],\n",
    "                     aggfunc={'APGAR5':['sum', 'mean', 'min', 'max', 'median', 'var', 'std' ], \n",
    "                              'APGAR1': ['sum', 'mean', 'min', 'max', 'median', 'var', 'std' ]},\n",
    "                     dropna=True)"
   ]
  },
  {
   "cell_type": "markdown",
   "metadata": {},
   "source": [
    "## Determine faixas na variável munResAlt e aplique o groupby usando essas faixas como chave e realize operações de soma, media, minimo, maximo, mediana, desvio padrao, variancia pra pelo menos 2 variáveis numéricas ainda não utilizadas"
   ]
  },
  {
   "cell_type": "code",
   "execution_count": 1099,
   "metadata": {},
   "outputs": [],
   "source": [
    "sinasc_5 = sinasc_raw[['munResAlt', 'APGAR5', 'APGAR1']]"
   ]
  },
  {
   "cell_type": "code",
   "execution_count": 1100,
   "metadata": {},
   "outputs": [
    {
     "data": {
      "text/html": [
       "<div>\n",
       "<style scoped>\n",
       "    .dataframe tbody tr th:only-of-type {\n",
       "        vertical-align: middle;\n",
       "    }\n",
       "\n",
       "    .dataframe tbody tr th {\n",
       "        vertical-align: top;\n",
       "    }\n",
       "\n",
       "    .dataframe thead th {\n",
       "        text-align: right;\n",
       "    }\n",
       "</style>\n",
       "<table border=\"1\" class=\"dataframe\">\n",
       "  <thead>\n",
       "    <tr style=\"text-align: right;\">\n",
       "      <th></th>\n",
       "      <th>munResAlt</th>\n",
       "      <th>APGAR5</th>\n",
       "      <th>APGAR1</th>\n",
       "    </tr>\n",
       "  </thead>\n",
       "  <tbody>\n",
       "    <tr>\n",
       "      <th>0</th>\n",
       "      <td>338.0</td>\n",
       "      <td>10.0</td>\n",
       "      <td>9.0</td>\n",
       "    </tr>\n",
       "    <tr>\n",
       "      <th>1</th>\n",
       "      <td>338.0</td>\n",
       "      <td>9.0</td>\n",
       "      <td>8.0</td>\n",
       "    </tr>\n",
       "    <tr>\n",
       "      <th>2</th>\n",
       "      <td>338.0</td>\n",
       "      <td>10.0</td>\n",
       "      <td>8.0</td>\n",
       "    </tr>\n",
       "    <tr>\n",
       "      <th>3</th>\n",
       "      <td>397.0</td>\n",
       "      <td>10.0</td>\n",
       "      <td>9.0</td>\n",
       "    </tr>\n",
       "    <tr>\n",
       "      <th>4</th>\n",
       "      <td>338.0</td>\n",
       "      <td>10.0</td>\n",
       "      <td>8.0</td>\n",
       "    </tr>\n",
       "    <tr>\n",
       "      <th>...</th>\n",
       "      <td>...</td>\n",
       "      <td>...</td>\n",
       "      <td>...</td>\n",
       "    </tr>\n",
       "    <tr>\n",
       "      <th>27023</th>\n",
       "      <td>595.0</td>\n",
       "      <td>9.0</td>\n",
       "      <td>8.0</td>\n",
       "    </tr>\n",
       "    <tr>\n",
       "      <th>27024</th>\n",
       "      <td>340.0</td>\n",
       "      <td>9.0</td>\n",
       "      <td>8.0</td>\n",
       "    </tr>\n",
       "    <tr>\n",
       "      <th>27025</th>\n",
       "      <td>595.0</td>\n",
       "      <td>10.0</td>\n",
       "      <td>9.0</td>\n",
       "    </tr>\n",
       "    <tr>\n",
       "      <th>27026</th>\n",
       "      <td>595.0</td>\n",
       "      <td>9.0</td>\n",
       "      <td>8.0</td>\n",
       "    </tr>\n",
       "    <tr>\n",
       "      <th>27027</th>\n",
       "      <td>230.0</td>\n",
       "      <td>8.0</td>\n",
       "      <td>7.0</td>\n",
       "    </tr>\n",
       "  </tbody>\n",
       "</table>\n",
       "<p>27028 rows × 3 columns</p>\n",
       "</div>"
      ],
      "text/plain": [
       "       munResAlt  APGAR5  APGAR1\n",
       "0          338.0    10.0     9.0\n",
       "1          338.0     9.0     8.0\n",
       "2          338.0    10.0     8.0\n",
       "3          397.0    10.0     9.0\n",
       "4          338.0    10.0     8.0\n",
       "...          ...     ...     ...\n",
       "27023      595.0     9.0     8.0\n",
       "27024      340.0     9.0     8.0\n",
       "27025      595.0    10.0     9.0\n",
       "27026      595.0     9.0     8.0\n",
       "27027      230.0     8.0     7.0\n",
       "\n",
       "[27028 rows x 3 columns]"
      ]
     },
     "execution_count": 1100,
     "metadata": {},
     "output_type": "execute_result"
    }
   ],
   "source": [
    "sinasc_5"
   ]
  },
  {
   "cell_type": "code",
   "execution_count": 1101,
   "metadata": {},
   "outputs": [
    {
     "data": {
      "text/plain": [
       "munResAlt    float64\n",
       "APGAR5       float64\n",
       "APGAR1       float64\n",
       "dtype: object"
      ]
     },
     "execution_count": 1101,
     "metadata": {},
     "output_type": "execute_result"
    }
   ],
   "source": [
    "sinasc_5.dtypes"
   ]
  },
  {
   "cell_type": "markdown",
   "metadata": {},
   "source": [
    "Para agrupar o 'munResAlt', precisamos tranformar ele em string"
   ]
  },
  {
   "cell_type": "code",
   "execution_count": 1102,
   "metadata": {
    "scrolled": true
   },
   "outputs": [
    {
     "name": "stderr",
     "output_type": "stream",
     "text": [
      "C:\\Users\\Jonatas\\AppData\\Local\\Temp\\ipykernel_9868\\3929665647.py:1: SettingWithCopyWarning: \n",
      "A value is trying to be set on a copy of a slice from a DataFrame.\n",
      "Try using .loc[row_indexer,col_indexer] = value instead\n",
      "\n",
      "See the caveats in the documentation: https://pandas.pydata.org/pandas-docs/stable/user_guide/indexing.html#returning-a-view-versus-a-copy\n",
      "  sinasc_5['munResAlt'] = sinasc_5['munResAlt'].astype(str)\n"
     ]
    }
   ],
   "source": [
    "sinasc_5['munResAlt'] = sinasc_5['munResAlt'].astype(str)"
   ]
  },
  {
   "cell_type": "code",
   "execution_count": 1103,
   "metadata": {},
   "outputs": [
    {
     "data": {
      "text/plain": [
       "munResAlt     object\n",
       "APGAR5       float64\n",
       "APGAR1       float64\n",
       "dtype: object"
      ]
     },
     "execution_count": 1103,
     "metadata": {},
     "output_type": "execute_result"
    }
   ],
   "source": [
    "sinasc_5.dtypes"
   ]
  },
  {
   "cell_type": "code",
   "execution_count": 1104,
   "metadata": {},
   "outputs": [],
   "source": [
    "sinasc_6 = sinasc_5.set_index('munResAlt')"
   ]
  },
  {
   "cell_type": "code",
   "execution_count": 1105,
   "metadata": {},
   "outputs": [
    {
     "data": {
      "text/html": [
       "<div>\n",
       "<style scoped>\n",
       "    .dataframe tbody tr th:only-of-type {\n",
       "        vertical-align: middle;\n",
       "    }\n",
       "\n",
       "    .dataframe tbody tr th {\n",
       "        vertical-align: top;\n",
       "    }\n",
       "\n",
       "    .dataframe thead th {\n",
       "        text-align: right;\n",
       "    }\n",
       "</style>\n",
       "<table border=\"1\" class=\"dataframe\">\n",
       "  <thead>\n",
       "    <tr style=\"text-align: right;\">\n",
       "      <th></th>\n",
       "      <th>APGAR5</th>\n",
       "      <th>APGAR1</th>\n",
       "    </tr>\n",
       "    <tr>\n",
       "      <th>munResAlt</th>\n",
       "      <th></th>\n",
       "      <th></th>\n",
       "    </tr>\n",
       "  </thead>\n",
       "  <tbody>\n",
       "    <tr>\n",
       "      <th>338.0</th>\n",
       "      <td>10.0</td>\n",
       "      <td>9.0</td>\n",
       "    </tr>\n",
       "    <tr>\n",
       "      <th>338.0</th>\n",
       "      <td>9.0</td>\n",
       "      <td>8.0</td>\n",
       "    </tr>\n",
       "    <tr>\n",
       "      <th>338.0</th>\n",
       "      <td>10.0</td>\n",
       "      <td>8.0</td>\n",
       "    </tr>\n",
       "    <tr>\n",
       "      <th>397.0</th>\n",
       "      <td>10.0</td>\n",
       "      <td>9.0</td>\n",
       "    </tr>\n",
       "    <tr>\n",
       "      <th>338.0</th>\n",
       "      <td>10.0</td>\n",
       "      <td>8.0</td>\n",
       "    </tr>\n",
       "  </tbody>\n",
       "</table>\n",
       "</div>"
      ],
      "text/plain": [
       "           APGAR5  APGAR1\n",
       "munResAlt                \n",
       "338.0        10.0     9.0\n",
       "338.0         9.0     8.0\n",
       "338.0        10.0     8.0\n",
       "397.0        10.0     9.0\n",
       "338.0        10.0     8.0"
      ]
     },
     "execution_count": 1105,
     "metadata": {},
     "output_type": "execute_result"
    }
   ],
   "source": [
    "sinasc_6.head( )"
   ]
  },
  {
   "cell_type": "markdown",
   "metadata": {},
   "source": [
    "Para saber as opções contentes no munResAlt, vamos puxar uma média do APGAR5, apenas para entermos como podemos divir os grupos dentro do munResAlt "
   ]
  },
  {
   "cell_type": "code",
   "execution_count": 1106,
   "metadata": {},
   "outputs": [
    {
     "data": {
      "text/html": [
       "<div>\n",
       "<style scoped>\n",
       "    .dataframe tbody tr th:only-of-type {\n",
       "        vertical-align: middle;\n",
       "    }\n",
       "\n",
       "    .dataframe tbody tr th {\n",
       "        vertical-align: top;\n",
       "    }\n",
       "\n",
       "    .dataframe thead tr th {\n",
       "        text-align: left;\n",
       "    }\n",
       "\n",
       "    .dataframe thead tr:last-of-type th {\n",
       "        text-align: right;\n",
       "    }\n",
       "</style>\n",
       "<table border=\"1\" class=\"dataframe\">\n",
       "  <thead>\n",
       "    <tr>\n",
       "      <th></th>\n",
       "      <th>APGAR5</th>\n",
       "    </tr>\n",
       "    <tr>\n",
       "      <th></th>\n",
       "      <th>mean</th>\n",
       "    </tr>\n",
       "    <tr>\n",
       "      <th>munResAlt</th>\n",
       "      <th></th>\n",
       "    </tr>\n",
       "  </thead>\n",
       "  <tbody>\n",
       "    <tr>\n",
       "      <th>111.0</th>\n",
       "      <td>9.156098</td>\n",
       "    </tr>\n",
       "    <tr>\n",
       "      <th>124.0</th>\n",
       "      <td>9.220000</td>\n",
       "    </tr>\n",
       "    <tr>\n",
       "      <th>128.0</th>\n",
       "      <td>9.296460</td>\n",
       "    </tr>\n",
       "    <tr>\n",
       "      <th>133.0</th>\n",
       "      <td>9.279009</td>\n",
       "    </tr>\n",
       "    <tr>\n",
       "      <th>139.0</th>\n",
       "      <td>9.192597</td>\n",
       "    </tr>\n",
       "    <tr>\n",
       "      <th>144.0</th>\n",
       "      <td>8.917172</td>\n",
       "    </tr>\n",
       "    <tr>\n",
       "      <th>145.0</th>\n",
       "      <td>9.008621</td>\n",
       "    </tr>\n",
       "    <tr>\n",
       "      <th>151.0</th>\n",
       "      <td>9.368910</td>\n",
       "    </tr>\n",
       "    <tr>\n",
       "      <th>153.0</th>\n",
       "      <td>9.714777</td>\n",
       "    </tr>\n",
       "    <tr>\n",
       "      <th>154.0</th>\n",
       "      <td>9.271605</td>\n",
       "    </tr>\n",
       "    <tr>\n",
       "      <th>155.0</th>\n",
       "      <td>9.326633</td>\n",
       "    </tr>\n",
       "    <tr>\n",
       "      <th>157.0</th>\n",
       "      <td>9.114626</td>\n",
       "    </tr>\n",
       "    <tr>\n",
       "      <th>158.0</th>\n",
       "      <td>8.946237</td>\n",
       "    </tr>\n",
       "    <tr>\n",
       "      <th>161.0</th>\n",
       "      <td>9.120000</td>\n",
       "    </tr>\n",
       "    <tr>\n",
       "      <th>163.0</th>\n",
       "      <td>9.062429</td>\n",
       "    </tr>\n",
       "    <tr>\n",
       "      <th>166.0</th>\n",
       "      <td>9.003311</td>\n",
       "    </tr>\n",
       "    <tr>\n",
       "      <th>170.0</th>\n",
       "      <td>9.125000</td>\n",
       "    </tr>\n",
       "    <tr>\n",
       "      <th>177.0</th>\n",
       "      <td>9.185725</td>\n",
       "    </tr>\n",
       "    <tr>\n",
       "      <th>178.0</th>\n",
       "      <td>9.019802</td>\n",
       "    </tr>\n",
       "    <tr>\n",
       "      <th>182.0</th>\n",
       "      <td>9.126829</td>\n",
       "    </tr>\n",
       "    <tr>\n",
       "      <th>186.0</th>\n",
       "      <td>9.130102</td>\n",
       "    </tr>\n",
       "    <tr>\n",
       "      <th>191.0</th>\n",
       "      <td>9.318945</td>\n",
       "    </tr>\n",
       "    <tr>\n",
       "      <th>192.0</th>\n",
       "      <td>9.061856</td>\n",
       "    </tr>\n",
       "    <tr>\n",
       "      <th>197.0</th>\n",
       "      <td>9.331325</td>\n",
       "    </tr>\n",
       "    <tr>\n",
       "      <th>202.0</th>\n",
       "      <td>9.089286</td>\n",
       "    </tr>\n",
       "    <tr>\n",
       "      <th>206.0</th>\n",
       "      <td>9.493976</td>\n",
       "    </tr>\n",
       "    <tr>\n",
       "      <th>212.0</th>\n",
       "      <td>9.304878</td>\n",
       "    </tr>\n",
       "    <tr>\n",
       "      <th>215.0</th>\n",
       "      <td>9.031250</td>\n",
       "    </tr>\n",
       "    <tr>\n",
       "      <th>227.0</th>\n",
       "      <td>9.097192</td>\n",
       "    </tr>\n",
       "    <tr>\n",
       "      <th>230.0</th>\n",
       "      <td>9.142857</td>\n",
       "    </tr>\n",
       "    <tr>\n",
       "      <th>236.0</th>\n",
       "      <td>9.125000</td>\n",
       "    </tr>\n",
       "    <tr>\n",
       "      <th>241.0</th>\n",
       "      <td>9.153846</td>\n",
       "    </tr>\n",
       "    <tr>\n",
       "      <th>245.0</th>\n",
       "      <td>8.953488</td>\n",
       "    </tr>\n",
       "    <tr>\n",
       "      <th>252.0</th>\n",
       "      <td>9.259141</td>\n",
       "    </tr>\n",
       "    <tr>\n",
       "      <th>259.0</th>\n",
       "      <td>8.785441</td>\n",
       "    </tr>\n",
       "    <tr>\n",
       "      <th>263.0</th>\n",
       "      <td>9.046852</td>\n",
       "    </tr>\n",
       "    <tr>\n",
       "      <th>265.0</th>\n",
       "      <td>9.060606</td>\n",
       "    </tr>\n",
       "    <tr>\n",
       "      <th>266.0</th>\n",
       "      <td>9.166667</td>\n",
       "    </tr>\n",
       "    <tr>\n",
       "      <th>269.0</th>\n",
       "      <td>9.228346</td>\n",
       "    </tr>\n",
       "    <tr>\n",
       "      <th>270.0</th>\n",
       "      <td>9.388889</td>\n",
       "    </tr>\n",
       "    <tr>\n",
       "      <th>296.0</th>\n",
       "      <td>9.068182</td>\n",
       "    </tr>\n",
       "    <tr>\n",
       "      <th>338.0</th>\n",
       "      <td>9.239782</td>\n",
       "    </tr>\n",
       "    <tr>\n",
       "      <th>340.0</th>\n",
       "      <td>9.056250</td>\n",
       "    </tr>\n",
       "    <tr>\n",
       "      <th>397.0</th>\n",
       "      <td>9.123377</td>\n",
       "    </tr>\n",
       "    <tr>\n",
       "      <th>419.0</th>\n",
       "      <td>9.042056</td>\n",
       "    </tr>\n",
       "    <tr>\n",
       "      <th>595.0</th>\n",
       "      <td>9.089015</td>\n",
       "    </tr>\n",
       "    <tr>\n",
       "      <th>85.0</th>\n",
       "      <td>9.265060</td>\n",
       "    </tr>\n",
       "    <tr>\n",
       "      <th>87.0</th>\n",
       "      <td>9.212284</td>\n",
       "    </tr>\n",
       "    <tr>\n",
       "      <th>99.0</th>\n",
       "      <td>9.259259</td>\n",
       "    </tr>\n",
       "    <tr>\n",
       "      <th>nan</th>\n",
       "      <td>10.000000</td>\n",
       "    </tr>\n",
       "  </tbody>\n",
       "</table>\n",
       "</div>"
      ],
      "text/plain": [
       "              APGAR5\n",
       "                mean\n",
       "munResAlt           \n",
       "111.0       9.156098\n",
       "124.0       9.220000\n",
       "128.0       9.296460\n",
       "133.0       9.279009\n",
       "139.0       9.192597\n",
       "144.0       8.917172\n",
       "145.0       9.008621\n",
       "151.0       9.368910\n",
       "153.0       9.714777\n",
       "154.0       9.271605\n",
       "155.0       9.326633\n",
       "157.0       9.114626\n",
       "158.0       8.946237\n",
       "161.0       9.120000\n",
       "163.0       9.062429\n",
       "166.0       9.003311\n",
       "170.0       9.125000\n",
       "177.0       9.185725\n",
       "178.0       9.019802\n",
       "182.0       9.126829\n",
       "186.0       9.130102\n",
       "191.0       9.318945\n",
       "192.0       9.061856\n",
       "197.0       9.331325\n",
       "202.0       9.089286\n",
       "206.0       9.493976\n",
       "212.0       9.304878\n",
       "215.0       9.031250\n",
       "227.0       9.097192\n",
       "230.0       9.142857\n",
       "236.0       9.125000\n",
       "241.0       9.153846\n",
       "245.0       8.953488\n",
       "252.0       9.259141\n",
       "259.0       8.785441\n",
       "263.0       9.046852\n",
       "265.0       9.060606\n",
       "266.0       9.166667\n",
       "269.0       9.228346\n",
       "270.0       9.388889\n",
       "296.0       9.068182\n",
       "338.0       9.239782\n",
       "340.0       9.056250\n",
       "397.0       9.123377\n",
       "419.0       9.042056\n",
       "595.0       9.089015\n",
       "85.0        9.265060\n",
       "87.0        9.212284\n",
       "99.0        9.259259\n",
       "nan        10.000000"
      ]
     },
     "execution_count": 1106,
     "metadata": {},
     "output_type": "execute_result"
    }
   ],
   "source": [
    "sinasc_6.pivot_table(values=['APGAR5'],\n",
    "                     index=['munResAlt'],\n",
    "                     aggfunc={'APGAR5':['mean']},\n",
    "                     dropna=True)"
   ]
  },
  {
   "cell_type": "code",
   "execution_count": 1107,
   "metadata": {},
   "outputs": [],
   "source": [
    "resalt = {\n",
    "    '111.0':'Abaixo de 200',\n",
    "    '124.0':'Abaixo de 200',\n",
    "    '128.0':'Abaixo de 200',\n",
    "    '133.0':'Abaixo de 200',\n",
    "    '139.0':'Abaixo de 200',\n",
    "    '144.0':'Abaixo de 200',\n",
    "    '145.0':'Abaixo de 200',\n",
    "    '151.0':'Abaixo de 200',\n",
    "    '153.0':'Abaixo de 200',\n",
    "    '154.0':'Abaixo de 200',\n",
    "    '155.0':'Abaixo de 200',\n",
    "    '157.0':'Abaixo de 200',\n",
    "    '158.0':'Abaixo de 200',\n",
    "    '161.0':'Abaixo de 200',\n",
    "    '163.0':'Abaixo de 200',\n",
    "    '166.0':'Abaixo de 200',\n",
    "    '170.0':'Abaixo de 200',\n",
    "    '177.0':'Abaixo de 200',\n",
    "    '178.0':'Abaixo de 200',\n",
    "    '182.0':'Abaixo de 200',\n",
    "    '186.0':'Abaixo de 200',\n",
    "    '191.0':'Abaixo de 200',\n",
    "    '192.0':'Abaixo de 200',\n",
    "    '197.0':'Abaixo de 200',\n",
    "    '202.0':'Acima de 200',\n",
    "    '206.0':'Acima de 200',\n",
    "    '212.0':'Acima de 200',\n",
    "    '215.0':'Acima de 200',\n",
    "    '227.0':'Acima de 200',\n",
    "    '230.0':'Acima de 200',\n",
    "    '236.0':'Acima de 200',\n",
    "    '241.0':'Acima de 200',\n",
    "    '245.0':'Acima de 200',\n",
    "    '252.0':'Acima de 200',\n",
    "    '259.0':'Acima de 200',\n",
    "    '263.0':'Acima de 200',\n",
    "    '265.0':'Acima de 200',\n",
    "    '266.0':'Acima de 200',\n",
    "    '269.0':'Acima de 200',\n",
    "    '270.0':'Acima de 200',\n",
    "    '296.0':'Acima de 200',\n",
    "    '338.0':'Acima de 200',\n",
    "    '340.0':'Acima de 200',\n",
    "    '397.0':'Acima de 200',\n",
    "    '419.0':'Acima de 200',\n",
    "    '595.0':'Acima de 200',\n",
    "    '85.0':'Abaixo de 200',\n",
    "    '87.0':'Abaixo de 200',\n",
    "    '99.0':'Abaixo de 200'\n",
    "}\n"
   ]
  },
  {
   "cell_type": "code",
   "execution_count": 1108,
   "metadata": {},
   "outputs": [
    {
     "data": {
      "text/html": [
       "<div>\n",
       "<style scoped>\n",
       "    .dataframe tbody tr th:only-of-type {\n",
       "        vertical-align: middle;\n",
       "    }\n",
       "\n",
       "    .dataframe tbody tr th {\n",
       "        vertical-align: top;\n",
       "    }\n",
       "\n",
       "    .dataframe thead tr th {\n",
       "        text-align: left;\n",
       "    }\n",
       "\n",
       "    .dataframe thead tr:last-of-type th {\n",
       "        text-align: right;\n",
       "    }\n",
       "</style>\n",
       "<table border=\"1\" class=\"dataframe\">\n",
       "  <thead>\n",
       "    <tr>\n",
       "      <th></th>\n",
       "      <th colspan=\"7\" halign=\"left\">APGAR1</th>\n",
       "      <th colspan=\"7\" halign=\"left\">APGAR5</th>\n",
       "    </tr>\n",
       "    <tr>\n",
       "      <th></th>\n",
       "      <th>max</th>\n",
       "      <th>mean</th>\n",
       "      <th>median</th>\n",
       "      <th>min</th>\n",
       "      <th>std</th>\n",
       "      <th>sum</th>\n",
       "      <th>var</th>\n",
       "      <th>max</th>\n",
       "      <th>mean</th>\n",
       "      <th>median</th>\n",
       "      <th>min</th>\n",
       "      <th>std</th>\n",
       "      <th>sum</th>\n",
       "      <th>var</th>\n",
       "    </tr>\n",
       "    <tr>\n",
       "      <th>munResAlt</th>\n",
       "      <th></th>\n",
       "      <th></th>\n",
       "      <th></th>\n",
       "      <th></th>\n",
       "      <th></th>\n",
       "      <th></th>\n",
       "      <th></th>\n",
       "      <th></th>\n",
       "      <th></th>\n",
       "      <th></th>\n",
       "      <th></th>\n",
       "      <th></th>\n",
       "      <th></th>\n",
       "      <th></th>\n",
       "    </tr>\n",
       "  </thead>\n",
       "  <tbody>\n",
       "    <tr>\n",
       "      <th>Abaixo de 200</th>\n",
       "      <td>10.0</td>\n",
       "      <td>8.140282</td>\n",
       "      <td>8.0</td>\n",
       "      <td>0.0</td>\n",
       "      <td>0.989649</td>\n",
       "      <td>168862.0</td>\n",
       "      <td>0.979404</td>\n",
       "      <td>10.0</td>\n",
       "      <td>9.196441</td>\n",
       "      <td>9.0</td>\n",
       "      <td>0.0</td>\n",
       "      <td>0.784460</td>\n",
       "      <td>190725.0</td>\n",
       "      <td>0.615377</td>\n",
       "    </tr>\n",
       "    <tr>\n",
       "      <th>Acima de 200</th>\n",
       "      <td>10.0</td>\n",
       "      <td>8.127849</td>\n",
       "      <td>8.0</td>\n",
       "      <td>0.0</td>\n",
       "      <td>0.968955</td>\n",
       "      <td>50287.0</td>\n",
       "      <td>0.938874</td>\n",
       "      <td>10.0</td>\n",
       "      <td>9.121099</td>\n",
       "      <td>9.0</td>\n",
       "      <td>0.0</td>\n",
       "      <td>0.808099</td>\n",
       "      <td>56414.0</td>\n",
       "      <td>0.653023</td>\n",
       "    </tr>\n",
       "  </tbody>\n",
       "</table>\n",
       "</div>"
      ],
      "text/plain": [
       "              APGAR1                                                      \\\n",
       "                 max      mean median  min       std       sum       var   \n",
       "munResAlt                                                                  \n",
       "Abaixo de 200   10.0  8.140282    8.0  0.0  0.989649  168862.0  0.979404   \n",
       "Acima de 200    10.0  8.127849    8.0  0.0  0.968955   50287.0  0.938874   \n",
       "\n",
       "              APGAR5                                                      \n",
       "                 max      mean median  min       std       sum       var  \n",
       "munResAlt                                                                 \n",
       "Abaixo de 200   10.0  9.196441    9.0  0.0  0.784460  190725.0  0.615377  \n",
       "Acima de 200    10.0  9.121099    9.0  0.0  0.808099   56414.0  0.653023  "
      ]
     },
     "execution_count": 1108,
     "metadata": {},
     "output_type": "execute_result"
    }
   ],
   "source": [
    "sinasc_6.pivot_table(values=['APGAR5', 'APGAR1'],\n",
    "                     index=[resalt],\n",
    "                     aggfunc={'APGAR5':['sum', 'mean', 'min', 'max', 'median', 'var', 'std'], \n",
    "                              'APGAR1': ['sum', 'mean', 'min', 'max', 'median', 'var', 'std']},\n",
    "                     dropna=True)"
   ]
  },
  {
   "cell_type": "markdown",
   "metadata": {},
   "source": [
    "## Plote no mesmo grafico ao longo do tempo a idade media das mulheres de cada regiao imediatas de rondonia\n",
    "https://pt.wikipedia.org/wiki/Lista_de_regi%C3%B5es_geogr%C3%A1ficas_intermedi%C3%A1rias_e_imediatas_de_Rond%C3%B4nia"
   ]
  },
  {
   "cell_type": "code",
   "execution_count": 1109,
   "metadata": {},
   "outputs": [],
   "source": [
    "sinasc_7 = sinasc_raw[['munResNome', 'IDADEMAE']]"
   ]
  },
  {
   "cell_type": "code",
   "execution_count": 1110,
   "metadata": {},
   "outputs": [],
   "source": [
    "sinasc_8 = sinasc_7.set_index('munResNome')"
   ]
  },
  {
   "cell_type": "markdown",
   "metadata": {},
   "source": [
    "Identificando os municipios, para transforma-los em regiao imediata"
   ]
  },
  {
   "cell_type": "code",
   "execution_count": 1111,
   "metadata": {},
   "outputs": [
    {
     "data": {
      "text/html": [
       "<div>\n",
       "<style scoped>\n",
       "    .dataframe tbody tr th:only-of-type {\n",
       "        vertical-align: middle;\n",
       "    }\n",
       "\n",
       "    .dataframe tbody tr th {\n",
       "        vertical-align: top;\n",
       "    }\n",
       "\n",
       "    .dataframe thead tr th {\n",
       "        text-align: left;\n",
       "    }\n",
       "\n",
       "    .dataframe thead tr:last-of-type th {\n",
       "        text-align: right;\n",
       "    }\n",
       "</style>\n",
       "<table border=\"1\" class=\"dataframe\">\n",
       "  <thead>\n",
       "    <tr>\n",
       "      <th></th>\n",
       "      <th>IDADEMAE</th>\n",
       "    </tr>\n",
       "    <tr>\n",
       "      <th></th>\n",
       "      <th>count</th>\n",
       "    </tr>\n",
       "    <tr>\n",
       "      <th>munResNome</th>\n",
       "      <th></th>\n",
       "    </tr>\n",
       "  </thead>\n",
       "  <tbody>\n",
       "    <tr>\n",
       "      <th>Alta Floresta D'Oeste</th>\n",
       "      <td>367</td>\n",
       "    </tr>\n",
       "    <tr>\n",
       "      <th>Alto Alegre dos Parecis</th>\n",
       "      <td>154</td>\n",
       "    </tr>\n",
       "    <tr>\n",
       "      <th>Alto Paraíso</th>\n",
       "      <td>226</td>\n",
       "    </tr>\n",
       "    <tr>\n",
       "      <th>Alvorada D'Oeste</th>\n",
       "      <td>205</td>\n",
       "    </tr>\n",
       "    <tr>\n",
       "      <th>Ariquemes</th>\n",
       "      <td>1729</td>\n",
       "    </tr>\n",
       "    <tr>\n",
       "      <th>Buritis</th>\n",
       "      <td>583</td>\n",
       "    </tr>\n",
       "    <tr>\n",
       "      <th>Cabixi</th>\n",
       "      <td>80</td>\n",
       "    </tr>\n",
       "    <tr>\n",
       "      <th>Cacaulândia</th>\n",
       "      <td>75</td>\n",
       "    </tr>\n",
       "    <tr>\n",
       "      <th>Cacoal</th>\n",
       "      <td>1374</td>\n",
       "    </tr>\n",
       "    <tr>\n",
       "      <th>Campo Novo de Rondônia</th>\n",
       "      <td>166</td>\n",
       "    </tr>\n",
       "    <tr>\n",
       "      <th>Candeias do Jamari</th>\n",
       "      <td>337</td>\n",
       "    </tr>\n",
       "    <tr>\n",
       "      <th>Castanheiras</th>\n",
       "      <td>32</td>\n",
       "    </tr>\n",
       "    <tr>\n",
       "      <th>Cerejeiras</th>\n",
       "      <td>237</td>\n",
       "    </tr>\n",
       "    <tr>\n",
       "      <th>Chupinguaia</th>\n",
       "      <td>162</td>\n",
       "    </tr>\n",
       "    <tr>\n",
       "      <th>Colorado do Oeste</th>\n",
       "      <td>214</td>\n",
       "    </tr>\n",
       "    <tr>\n",
       "      <th>Corumbiara</th>\n",
       "      <td>127</td>\n",
       "    </tr>\n",
       "    <tr>\n",
       "      <th>Costa Marques</th>\n",
       "      <td>233</td>\n",
       "    </tr>\n",
       "    <tr>\n",
       "      <th>Cujubim</th>\n",
       "      <td>205</td>\n",
       "    </tr>\n",
       "    <tr>\n",
       "      <th>Espigão D'Oeste</th>\n",
       "      <td>450</td>\n",
       "    </tr>\n",
       "    <tr>\n",
       "      <th>Governador Jorge Teixeira</th>\n",
       "      <td>112</td>\n",
       "    </tr>\n",
       "    <tr>\n",
       "      <th>Guajará-Mirim</th>\n",
       "      <td>781</td>\n",
       "    </tr>\n",
       "    <tr>\n",
       "      <th>Itapuã do Oeste</th>\n",
       "      <td>109</td>\n",
       "    </tr>\n",
       "    <tr>\n",
       "      <th>Jaru</th>\n",
       "      <td>881</td>\n",
       "    </tr>\n",
       "    <tr>\n",
       "      <th>Ji-Paraná</th>\n",
       "      <td>2182</td>\n",
       "    </tr>\n",
       "    <tr>\n",
       "      <th>Machadinho D'Oeste</th>\n",
       "      <td>500</td>\n",
       "    </tr>\n",
       "    <tr>\n",
       "      <th>Ministro Andreazza</th>\n",
       "      <td>84</td>\n",
       "    </tr>\n",
       "    <tr>\n",
       "      <th>Mirante da Serra</th>\n",
       "      <td>164</td>\n",
       "    </tr>\n",
       "    <tr>\n",
       "      <th>Monte Negro</th>\n",
       "      <td>199</td>\n",
       "    </tr>\n",
       "    <tr>\n",
       "      <th>Município ignorado - RO</th>\n",
       "      <td>1</td>\n",
       "    </tr>\n",
       "    <tr>\n",
       "      <th>Nova Brasilândia D'Oeste</th>\n",
       "      <td>261</td>\n",
       "    </tr>\n",
       "    <tr>\n",
       "      <th>Nova Mamoré</th>\n",
       "      <td>432</td>\n",
       "    </tr>\n",
       "    <tr>\n",
       "      <th>Nova União</th>\n",
       "      <td>104</td>\n",
       "    </tr>\n",
       "    <tr>\n",
       "      <th>Novo Horizonte do Oeste</th>\n",
       "      <td>98</td>\n",
       "    </tr>\n",
       "    <tr>\n",
       "      <th>Ouro Preto do Oeste</th>\n",
       "      <td>631</td>\n",
       "    </tr>\n",
       "    <tr>\n",
       "      <th>Parecis</th>\n",
       "      <td>44</td>\n",
       "    </tr>\n",
       "    <tr>\n",
       "      <th>Pimenta Bueno</th>\n",
       "      <td>616</td>\n",
       "    </tr>\n",
       "    <tr>\n",
       "      <th>Pimenteiras do Oeste</th>\n",
       "      <td>40</td>\n",
       "    </tr>\n",
       "    <tr>\n",
       "      <th>Porto Velho</th>\n",
       "      <td>8437</td>\n",
       "    </tr>\n",
       "    <tr>\n",
       "      <th>Presidente Médici</th>\n",
       "      <td>304</td>\n",
       "    </tr>\n",
       "    <tr>\n",
       "      <th>Primavera de Rondônia</th>\n",
       "      <td>43</td>\n",
       "    </tr>\n",
       "    <tr>\n",
       "      <th>Rio Crespo</th>\n",
       "      <td>50</td>\n",
       "    </tr>\n",
       "    <tr>\n",
       "      <th>Rolim de Moura</th>\n",
       "      <td>927</td>\n",
       "    </tr>\n",
       "    <tr>\n",
       "      <th>Santa Luzia D'Oeste</th>\n",
       "      <td>99</td>\n",
       "    </tr>\n",
       "    <tr>\n",
       "      <th>Seringueiras</th>\n",
       "      <td>168</td>\n",
       "    </tr>\n",
       "    <tr>\n",
       "      <th>São Felipe D'Oeste</th>\n",
       "      <td>54</td>\n",
       "    </tr>\n",
       "    <tr>\n",
       "      <th>São Francisco do Guaporé</th>\n",
       "      <td>303</td>\n",
       "    </tr>\n",
       "    <tr>\n",
       "      <th>São Miguel do Guaporé</th>\n",
       "      <td>353</td>\n",
       "    </tr>\n",
       "    <tr>\n",
       "      <th>Teixeirópolis</th>\n",
       "      <td>64</td>\n",
       "    </tr>\n",
       "    <tr>\n",
       "      <th>Theobroma</th>\n",
       "      <td>97</td>\n",
       "    </tr>\n",
       "    <tr>\n",
       "      <th>Urupá</th>\n",
       "      <td>170</td>\n",
       "    </tr>\n",
       "    <tr>\n",
       "      <th>Vale do Anari</th>\n",
       "      <td>93</td>\n",
       "    </tr>\n",
       "    <tr>\n",
       "      <th>Vale do Paraíso</th>\n",
       "      <td>81</td>\n",
       "    </tr>\n",
       "    <tr>\n",
       "      <th>Vilhena</th>\n",
       "      <td>1590</td>\n",
       "    </tr>\n",
       "  </tbody>\n",
       "</table>\n",
       "</div>"
      ],
      "text/plain": [
       "                          IDADEMAE\n",
       "                             count\n",
       "munResNome                        \n",
       "Alta Floresta D'Oeste          367\n",
       "Alto Alegre dos Parecis        154\n",
       "Alto Paraíso                   226\n",
       "Alvorada D'Oeste               205\n",
       "Ariquemes                     1729\n",
       "Buritis                        583\n",
       "Cabixi                          80\n",
       "Cacaulândia                     75\n",
       "Cacoal                        1374\n",
       "Campo Novo de Rondônia         166\n",
       "Candeias do Jamari             337\n",
       "Castanheiras                    32\n",
       "Cerejeiras                     237\n",
       "Chupinguaia                    162\n",
       "Colorado do Oeste              214\n",
       "Corumbiara                     127\n",
       "Costa Marques                  233\n",
       "Cujubim                        205\n",
       "Espigão D'Oeste                450\n",
       "Governador Jorge Teixeira      112\n",
       "Guajará-Mirim                  781\n",
       "Itapuã do Oeste                109\n",
       "Jaru                           881\n",
       "Ji-Paraná                     2182\n",
       "Machadinho D'Oeste             500\n",
       "Ministro Andreazza              84\n",
       "Mirante da Serra               164\n",
       "Monte Negro                    199\n",
       "Município ignorado - RO          1\n",
       "Nova Brasilândia D'Oeste       261\n",
       "Nova Mamoré                    432\n",
       "Nova União                     104\n",
       "Novo Horizonte do Oeste         98\n",
       "Ouro Preto do Oeste            631\n",
       "Parecis                         44\n",
       "Pimenta Bueno                  616\n",
       "Pimenteiras do Oeste            40\n",
       "Porto Velho                   8437\n",
       "Presidente Médici              304\n",
       "Primavera de Rondônia           43\n",
       "Rio Crespo                      50\n",
       "Rolim de Moura                 927\n",
       "Santa Luzia D'Oeste             99\n",
       "Seringueiras                   168\n",
       "São Felipe D'Oeste              54\n",
       "São Francisco do Guaporé       303\n",
       "São Miguel do Guaporé          353\n",
       "Teixeirópolis                   64\n",
       "Theobroma                       97\n",
       "Urupá                          170\n",
       "Vale do Anari                   93\n",
       "Vale do Paraíso                 81\n",
       "Vilhena                       1590"
      ]
     },
     "execution_count": 1111,
     "metadata": {},
     "output_type": "execute_result"
    }
   ],
   "source": [
    "sinasc_8.pivot_table(values=['IDADEMAE'],\n",
    "                     index=['munResNome'],\n",
    "                     aggfunc={'IDADEMAE':['count']},\n",
    "                     dropna=True)"
   ]
  },
  {
   "cell_type": "code",
   "execution_count": 1112,
   "metadata": {},
   "outputs": [],
   "source": [
    "regioes_imediatas = {\n",
    "    'Porto Velho':'Porto Velho',\n",
    "    'Ji-Paraná':'Ji-Paraná',\n",
    "    'Ariquemes':'Ariquemes',\n",
    "    'Vilhena':'Vilhena',\n",
    "    'Cacoal':'Cacoal',\n",
    "    'Rolim de Moura':'Cacoal',\n",
    "    'Jaru':'Jaru',\n",
    "    'Guajará-Mirim':'Porto Velho',\n",
    "    'Ouro Preto do Oeste':'Ji-Paraná',\n",
    "    'Pimenta Bueno':'Cacoal',\n",
    "    'Buritis':'Ariquemes',\n",
    "    \"Machadinho D'Oeste\":'Jaru',\n",
    "    \"Espigão D'Oeste\":'Cacoal',\n",
    "    'Nova Mamoré':'Porto Velho',\n",
    "    \"Alta Floresta D'Oeste\":'Cacoal',\n",
    "    'São Miguel do Guaporé':'Ji-Paraná',\n",
    "    'Candeias do Jamari':'Porto Velho',\n",
    "    'Presidente Médici':'Ji-Paraná',\n",
    "    'São Francisco do Guaporé':'Ji-Paraná',\n",
    "    \"Nova Brasilândia D'Oeste\":'Cacoal',\n",
    "    'Cerejeiras':'Vilhena',\n",
    "    'Costa Marques':'Ji-Paraná',\n",
    "    'Alto Paraíso':'Ariquemes',\n",
    "    'Colorado do Oeste':'Vilhena',\n",
    "    \"Alvorada D'Oeste\":'Ji-Paraná',\n",
    "    'Cujubim':'Ariquemes',\n",
    "    'Monte Negro':'Ariquemes',\n",
    "    'Urupá':'Ji-Paraná',\n",
    "    'Seringueiras':'Ji-Paraná',\n",
    "    'Campo Novo de Rondônia':'Ariquemes',\n",
    "    'Mirante da Serra':'Ji-Paraná',\n",
    "    'Chupinguaia':'Vilhena',\n",
    "    'Alto Alegre dos Parecis':'Cacoal',\n",
    "    'Corumbiara':'Vilhena',\n",
    "    'Governador Jorge Teixeira':'Jaru',\n",
    "    'Itapuã do Oeste':'Porto Velho',\n",
    "    'Nova União':'Ji-Paraná',\n",
    "    \"Santa Luzia D'Oeste\":'Cacoal',\n",
    "    'Novo Horizonte do Oeste':'Cacoal',\n",
    "    'Theobroma':'Jaru',\n",
    "    'Vale do Anari':'Jaru',\n",
    "    'Ministro Andreazza':'Cacoal',\n",
    "    'Vale do Paraíso':'Ji-Paraná',\n",
    "    'Cabixi':'Vilhena',\n",
    "    'Cacaulândia':'Ariquemes',\n",
    "    'Teixeirópolis':'Ji-Paraná',\n",
    "    \"São Felipe D'Oeste\":'Cacoal',\n",
    "    'Rio Crespo':'Ariquemes',\n",
    "    'Parecis':'Cacoal',\n",
    "    'Primavera de Rondônia':'Cacoal',\n",
    "    'Pimenteiras do Oeste':'Vilhena',\n",
    "    'Castanheiras':'Cacoal',\n",
    "    'Município ignorado - RO':'Município ignorado - RO'    \n",
    "}"
   ]
  },
  {
   "cell_type": "code",
   "execution_count": 1113,
   "metadata": {},
   "outputs": [],
   "source": [
    "regioes_imedias_por_idade_mae = sinasc_8.pivot_table(values=['IDADEMAE'],\n",
    "                                 index=[regioes_imediatas],\n",
    "                                 aggfunc={'IDADEMAE':['mean']},\n",
    "                                 dropna=True)"
   ]
  },
  {
   "cell_type": "code",
   "execution_count": 1114,
   "metadata": {},
   "outputs": [
    {
     "data": {
      "text/plain": [
       "<AxesSubplot:xlabel='munResNome'>"
      ]
     },
     "execution_count": 1114,
     "metadata": {},
     "output_type": "execute_result"
    },
    {
     "data": {
      "image/png": "[encoded data removed]",
      "text/plain": [
       "<Figure size 1440x576 with 1 Axes>"
      ]
     },
     "metadata": {
      "needs_background": "light"
     },
     "output_type": "display_data"
    }
   ],
   "source": [
    "regioes_imedias_por_idade_mae.plot(figsize=(20,8))"
   ]
  },
  {
   "cell_type": "markdown",
   "metadata": {},
   "source": [
    "# Utilize a tabela do link abaixo e crie faixas utilizando o mapping e gere agrupamentos utilizando essas faixas como chave\n"
   ]
  },
  {
   "cell_type": "markdown",
   "metadata": {},
   "source": [
    "## IDH\n",
    "A - https://pt.wikipedia.org/wiki/Lista_de_munic%C3%ADpios_de_Rond%C3%B4nia_por_IDH-M\n"
   ]
  },
  {
   "cell_type": "markdown",
   "metadata": {},
   "source": [
    "baixando a base"
   ]
  },
  {
   "cell_type": "code",
   "execution_count": 1115,
   "metadata": {},
   "outputs": [],
   "source": [
    "url_a = 'https://pt.wikipedia.org/wiki/Lista_de_munic%C3%ADpios_de_Rond%C3%B4nia_por_IDH-M'"
   ]
  },
  {
   "cell_type": "code",
   "execution_count": 1116,
   "metadata": {
    "scrolled": true
   },
   "outputs": [],
   "source": [
    "IDH = pd.read_html(url_a, header=1)"
   ]
  },
  {
   "cell_type": "code",
   "execution_count": 1117,
   "metadata": {},
   "outputs": [],
   "source": [
    "IDH = IDH[0] "
   ]
  },
  {
   "cell_type": "markdown",
   "metadata": {},
   "source": [
    "Trantando a formatação e excluido os dados que não serão utilizados."
   ]
  },
  {
   "cell_type": "code",
   "execution_count": 1118,
   "metadata": {
    "scrolled": false
   },
   "outputs": [
    {
     "data": {
      "text/html": [
       "<div>\n",
       "<style scoped>\n",
       "    .dataframe tbody tr th:only-of-type {\n",
       "        vertical-align: middle;\n",
       "    }\n",
       "\n",
       "    .dataframe tbody tr th {\n",
       "        vertical-align: top;\n",
       "    }\n",
       "\n",
       "    .dataframe thead th {\n",
       "        text-align: right;\n",
       "    }\n",
       "</style>\n",
       "<table border=\"1\" class=\"dataframe\">\n",
       "  <thead>\n",
       "    <tr style=\"text-align: right;\">\n",
       "      <th></th>\n",
       "      <th>Posição</th>\n",
       "      <th>Município</th>\n",
       "      <th>IDH municipal</th>\n",
       "      <th>IDH renda</th>\n",
       "      <th>IDH longevidade</th>\n",
       "      <th>IDH educação</th>\n",
       "    </tr>\n",
       "  </thead>\n",
       "  <tbody>\n",
       "    <tr>\n",
       "      <th>0</th>\n",
       "      <td>IDH-M muito alto</td>\n",
       "      <td>IDH-M muito alto</td>\n",
       "      <td>IDH-M muito alto</td>\n",
       "      <td>IDH-M muito alto</td>\n",
       "      <td>IDH-M muito alto</td>\n",
       "      <td>IDH-M muito alto</td>\n",
       "    </tr>\n",
       "    <tr>\n",
       "      <th>1</th>\n",
       "      <td>nenhum município</td>\n",
       "      <td>nenhum município</td>\n",
       "      <td>nenhum município</td>\n",
       "      <td>nenhum município</td>\n",
       "      <td>nenhum município</td>\n",
       "      <td>nenhum município</td>\n",
       "    </tr>\n",
       "    <tr>\n",
       "      <th>2</th>\n",
       "      <td>IDH-M alto</td>\n",
       "      <td>IDH-M alto</td>\n",
       "      <td>IDH-M alto</td>\n",
       "      <td>IDH-M alto</td>\n",
       "      <td>IDH-M alto</td>\n",
       "      <td>IDH-M alto</td>\n",
       "    </tr>\n",
       "    <tr>\n",
       "      <th>3</th>\n",
       "      <td>1</td>\n",
       "      <td>Porto Velho</td>\n",
       "      <td>0.736</td>\n",
       "      <td>0.764</td>\n",
       "      <td>0.819</td>\n",
       "      <td>0.638</td>\n",
       "    </tr>\n",
       "    <tr>\n",
       "      <th>4</th>\n",
       "      <td>2</td>\n",
       "      <td>Vilhena</td>\n",
       "      <td>0.731</td>\n",
       "      <td>0.734</td>\n",
       "      <td>0.808</td>\n",
       "      <td>0.659</td>\n",
       "    </tr>\n",
       "  </tbody>\n",
       "</table>\n",
       "</div>"
      ],
      "text/plain": [
       "            Posição         Município     IDH municipal         IDH renda  \\\n",
       "0  IDH-M muito alto  IDH-M muito alto  IDH-M muito alto  IDH-M muito alto   \n",
       "1  nenhum município  nenhum município  nenhum município  nenhum município   \n",
       "2        IDH-M alto        IDH-M alto        IDH-M alto        IDH-M alto   \n",
       "3                 1       Porto Velho             0.736             0.764   \n",
       "4                 2           Vilhena             0.731             0.734   \n",
       "\n",
       "    IDH longevidade      IDH educação  \n",
       "0  IDH-M muito alto  IDH-M muito alto  \n",
       "1  nenhum município  nenhum município  \n",
       "2        IDH-M alto        IDH-M alto  \n",
       "3             0.819             0.638  \n",
       "4             0.808             0.659  "
      ]
     },
     "execution_count": 1118,
     "metadata": {},
     "output_type": "execute_result"
    }
   ],
   "source": [
    "IDH.head()"
   ]
  },
  {
   "cell_type": "code",
   "execution_count": 1119,
   "metadata": {},
   "outputs": [],
   "source": [
    "IDH.drop({0, 1, 2, 10, 47, 57, 58}, inplace=True)"
   ]
  },
  {
   "cell_type": "code",
   "execution_count": 1120,
   "metadata": {
    "scrolled": true
   },
   "outputs": [
    {
     "data": {
      "text/html": [
       "<div>\n",
       "<style scoped>\n",
       "    .dataframe tbody tr th:only-of-type {\n",
       "        vertical-align: middle;\n",
       "    }\n",
       "\n",
       "    .dataframe tbody tr th {\n",
       "        vertical-align: top;\n",
       "    }\n",
       "\n",
       "    .dataframe thead th {\n",
       "        text-align: right;\n",
       "    }\n",
       "</style>\n",
       "<table border=\"1\" class=\"dataframe\">\n",
       "  <thead>\n",
       "    <tr style=\"text-align: right;\">\n",
       "      <th></th>\n",
       "      <th>Posição</th>\n",
       "      <th>Município</th>\n",
       "      <th>IDH municipal</th>\n",
       "      <th>IDH renda</th>\n",
       "      <th>IDH longevidade</th>\n",
       "      <th>IDH educação</th>\n",
       "    </tr>\n",
       "  </thead>\n",
       "  <tbody>\n",
       "    <tr>\n",
       "      <th>3</th>\n",
       "      <td>1</td>\n",
       "      <td>Porto Velho</td>\n",
       "      <td>0.736</td>\n",
       "      <td>0.764</td>\n",
       "      <td>0.819</td>\n",
       "      <td>0.638</td>\n",
       "    </tr>\n",
       "    <tr>\n",
       "      <th>4</th>\n",
       "      <td>2</td>\n",
       "      <td>Vilhena</td>\n",
       "      <td>0.731</td>\n",
       "      <td>0.734</td>\n",
       "      <td>0.808</td>\n",
       "      <td>0.659</td>\n",
       "    </tr>\n",
       "    <tr>\n",
       "      <th>5</th>\n",
       "      <td>3</td>\n",
       "      <td>Cacoal</td>\n",
       "      <td>0.718</td>\n",
       "      <td>0.727</td>\n",
       "      <td>0.821</td>\n",
       "      <td>0.620</td>\n",
       "    </tr>\n",
       "    <tr>\n",
       "      <th>6</th>\n",
       "      <td>4</td>\n",
       "      <td>Ji-Paraná</td>\n",
       "      <td>0.714</td>\n",
       "      <td>0.728</td>\n",
       "      <td>0.810</td>\n",
       "      <td>0.617</td>\n",
       "    </tr>\n",
       "    <tr>\n",
       "      <th>7</th>\n",
       "      <td>5</td>\n",
       "      <td>Pimenta Bueno</td>\n",
       "      <td>0.710</td>\n",
       "      <td>0.726</td>\n",
       "      <td>0.803</td>\n",
       "      <td>0.613</td>\n",
       "    </tr>\n",
       "  </tbody>\n",
       "</table>\n",
       "</div>"
      ],
      "text/plain": [
       "  Posição      Município IDH municipal IDH renda IDH longevidade IDH educação\n",
       "3       1    Porto Velho         0.736     0.764           0.819        0.638\n",
       "4       2        Vilhena         0.731     0.734           0.808        0.659\n",
       "5       3         Cacoal         0.718     0.727           0.821        0.620\n",
       "6       4      Ji-Paraná         0.714     0.728           0.810        0.617\n",
       "7       5  Pimenta Bueno         0.710     0.726           0.803        0.613"
      ]
     },
     "execution_count": 1120,
     "metadata": {},
     "output_type": "execute_result"
    }
   ],
   "source": [
    "IDH.head()"
   ]
  },
  {
   "cell_type": "code",
   "execution_count": 1121,
   "metadata": {},
   "outputs": [],
   "source": [
    "IDH.drop(['Posição'], axis=1, inplace=True)"
   ]
  },
  {
   "cell_type": "code",
   "execution_count": 1122,
   "metadata": {},
   "outputs": [
    {
     "data": {
      "text/html": [
       "<div>\n",
       "<style scoped>\n",
       "    .dataframe tbody tr th:only-of-type {\n",
       "        vertical-align: middle;\n",
       "    }\n",
       "\n",
       "    .dataframe tbody tr th {\n",
       "        vertical-align: top;\n",
       "    }\n",
       "\n",
       "    .dataframe thead th {\n",
       "        text-align: right;\n",
       "    }\n",
       "</style>\n",
       "<table border=\"1\" class=\"dataframe\">\n",
       "  <thead>\n",
       "    <tr style=\"text-align: right;\">\n",
       "      <th></th>\n",
       "      <th>Município</th>\n",
       "      <th>IDH municipal</th>\n",
       "      <th>IDH renda</th>\n",
       "      <th>IDH longevidade</th>\n",
       "      <th>IDH educação</th>\n",
       "    </tr>\n",
       "  </thead>\n",
       "  <tbody>\n",
       "    <tr>\n",
       "      <th>3</th>\n",
       "      <td>Porto Velho</td>\n",
       "      <td>0.736</td>\n",
       "      <td>0.764</td>\n",
       "      <td>0.819</td>\n",
       "      <td>0.638</td>\n",
       "    </tr>\n",
       "    <tr>\n",
       "      <th>4</th>\n",
       "      <td>Vilhena</td>\n",
       "      <td>0.731</td>\n",
       "      <td>0.734</td>\n",
       "      <td>0.808</td>\n",
       "      <td>0.659</td>\n",
       "    </tr>\n",
       "    <tr>\n",
       "      <th>5</th>\n",
       "      <td>Cacoal</td>\n",
       "      <td>0.718</td>\n",
       "      <td>0.727</td>\n",
       "      <td>0.821</td>\n",
       "      <td>0.620</td>\n",
       "    </tr>\n",
       "    <tr>\n",
       "      <th>6</th>\n",
       "      <td>Ji-Paraná</td>\n",
       "      <td>0.714</td>\n",
       "      <td>0.728</td>\n",
       "      <td>0.810</td>\n",
       "      <td>0.617</td>\n",
       "    </tr>\n",
       "    <tr>\n",
       "      <th>7</th>\n",
       "      <td>Pimenta Bueno</td>\n",
       "      <td>0.710</td>\n",
       "      <td>0.726</td>\n",
       "      <td>0.803</td>\n",
       "      <td>0.613</td>\n",
       "    </tr>\n",
       "  </tbody>\n",
       "</table>\n",
       "</div>"
      ],
      "text/plain": [
       "       Município IDH municipal IDH renda IDH longevidade IDH educação\n",
       "3    Porto Velho         0.736     0.764           0.819        0.638\n",
       "4        Vilhena         0.731     0.734           0.808        0.659\n",
       "5         Cacoal         0.718     0.727           0.821        0.620\n",
       "6      Ji-Paraná         0.714     0.728           0.810        0.617\n",
       "7  Pimenta Bueno         0.710     0.726           0.803        0.613"
      ]
     },
     "execution_count": 1122,
     "metadata": {},
     "output_type": "execute_result"
    }
   ],
   "source": [
    "IDH.head()"
   ]
  },
  {
   "cell_type": "code",
   "execution_count": 1123,
   "metadata": {},
   "outputs": [],
   "source": [
    "IDH = IDH.rename(columns = {'IDH municipal':'IDH_municipal',\n",
    "                           'IDH renda': 'IDH_renda',\n",
    "                           'IDH longevidade': 'IDH_longevidade',\n",
    "                           'IDH educação': 'ID_educação'})"
   ]
  },
  {
   "cell_type": "code",
   "execution_count": 1124,
   "metadata": {
    "scrolled": false
   },
   "outputs": [
    {
     "data": {
      "text/html": [
       "<div>\n",
       "<style scoped>\n",
       "    .dataframe tbody tr th:only-of-type {\n",
       "        vertical-align: middle;\n",
       "    }\n",
       "\n",
       "    .dataframe tbody tr th {\n",
       "        vertical-align: top;\n",
       "    }\n",
       "\n",
       "    .dataframe thead th {\n",
       "        text-align: right;\n",
       "    }\n",
       "</style>\n",
       "<table border=\"1\" class=\"dataframe\">\n",
       "  <thead>\n",
       "    <tr style=\"text-align: right;\">\n",
       "      <th></th>\n",
       "      <th>Município</th>\n",
       "      <th>IDH_municipal</th>\n",
       "      <th>IDH_renda</th>\n",
       "      <th>IDH_longevidade</th>\n",
       "      <th>ID_educação</th>\n",
       "    </tr>\n",
       "  </thead>\n",
       "  <tbody>\n",
       "    <tr>\n",
       "      <th>0</th>\n",
       "      <td>Porto Velho</td>\n",
       "      <td>0.736</td>\n",
       "      <td>0.764</td>\n",
       "      <td>0.819</td>\n",
       "      <td>0.638</td>\n",
       "    </tr>\n",
       "    <tr>\n",
       "      <th>1</th>\n",
       "      <td>Vilhena</td>\n",
       "      <td>0.731</td>\n",
       "      <td>0.734</td>\n",
       "      <td>0.808</td>\n",
       "      <td>0.659</td>\n",
       "    </tr>\n",
       "    <tr>\n",
       "      <th>2</th>\n",
       "      <td>Cacoal</td>\n",
       "      <td>0.718</td>\n",
       "      <td>0.727</td>\n",
       "      <td>0.821</td>\n",
       "      <td>0.620</td>\n",
       "    </tr>\n",
       "    <tr>\n",
       "      <th>3</th>\n",
       "      <td>Ji-Paraná</td>\n",
       "      <td>0.714</td>\n",
       "      <td>0.728</td>\n",
       "      <td>0.810</td>\n",
       "      <td>0.617</td>\n",
       "    </tr>\n",
       "    <tr>\n",
       "      <th>4</th>\n",
       "      <td>Pimenta Bueno</td>\n",
       "      <td>0.710</td>\n",
       "      <td>0.726</td>\n",
       "      <td>0.803</td>\n",
       "      <td>0.613</td>\n",
       "    </tr>\n",
       "  </tbody>\n",
       "</table>\n",
       "</div>"
      ],
      "text/plain": [
       "       Município IDH_municipal IDH_renda IDH_longevidade ID_educação\n",
       "0    Porto Velho         0.736     0.764           0.819       0.638\n",
       "1        Vilhena         0.731     0.734           0.808       0.659\n",
       "2         Cacoal         0.718     0.727           0.821       0.620\n",
       "3      Ji-Paraná         0.714     0.728           0.810       0.617\n",
       "4  Pimenta Bueno         0.710     0.726           0.803       0.613"
      ]
     },
     "execution_count": 1124,
     "metadata": {},
     "output_type": "execute_result"
    }
   ],
   "source": [
    "IDH.reset_index(drop=True).head()"
   ]
  },
  {
   "cell_type": "code",
   "execution_count": 1125,
   "metadata": {},
   "outputs": [
    {
     "data": {
      "text/plain": [
       "(52, 5)"
      ]
     },
     "execution_count": 1125,
     "metadata": {},
     "output_type": "execute_result"
    }
   ],
   "source": [
    "IDH.shape"
   ]
  },
  {
   "cell_type": "markdown",
   "metadata": {},
   "source": [
    "O Índice de Desenvolvimento Humano varia de 0 até 1, e nesta lista é dividido em cinco categorias: IDH muito alto (0,800 – 1,000), IDH alto (0,700 – 0,799), IDH médio (0,600 0,699), IDH baixo (0,500 – 0,599) e IDH muito baixo (0,000 – 0,499)."
   ]
  },
  {
   "cell_type": "markdown",
   "metadata": {},
   "source": [
    "## IFDM \n",
    "B - https://pt.wikipedia.org/wiki/Lista_de_munic%C3%ADpios_de_Rond%C3%B4nia_por_IFDM\n"
   ]
  },
  {
   "cell_type": "code",
   "execution_count": 1126,
   "metadata": {},
   "outputs": [],
   "source": [
    "url_b = 'https://pt.wikipedia.org/wiki/Lista_de_munic%C3%ADpios_de_Rond%C3%B4nia_por_IFDM'"
   ]
  },
  {
   "cell_type": "code",
   "execution_count": 1127,
   "metadata": {},
   "outputs": [],
   "source": [
    "IFDM = pd.read_html(url_b, header=1)"
   ]
  },
  {
   "cell_type": "code",
   "execution_count": 1128,
   "metadata": {},
   "outputs": [],
   "source": [
    "IFDM = IFDM[0] "
   ]
  },
  {
   "cell_type": "markdown",
   "metadata": {},
   "source": [
    "Trantando a formatação e excluido os dados que não serão utilizados."
   ]
  },
  {
   "cell_type": "code",
   "execution_count": 1129,
   "metadata": {
    "scrolled": true
   },
   "outputs": [
    {
     "data": {
      "text/html": [
       "<div>\n",
       "<style scoped>\n",
       "    .dataframe tbody tr th:only-of-type {\n",
       "        vertical-align: middle;\n",
       "    }\n",
       "\n",
       "    .dataframe tbody tr th {\n",
       "        vertical-align: top;\n",
       "    }\n",
       "\n",
       "    .dataframe thead th {\n",
       "        text-align: right;\n",
       "    }\n",
       "</style>\n",
       "<table border=\"1\" class=\"dataframe\">\n",
       "  <thead>\n",
       "    <tr style=\"text-align: right;\">\n",
       "      <th></th>\n",
       "      <th>Desenvolvimento alto</th>\n",
       "      <th>Desenvolvimento alto.1</th>\n",
       "      <th>Desenvolvimento alto.2</th>\n",
       "    </tr>\n",
       "  </thead>\n",
       "  <tbody>\n",
       "    <tr>\n",
       "      <th>0</th>\n",
       "      <td>nenhum município</td>\n",
       "      <td>nenhum município</td>\n",
       "      <td>nenhum município</td>\n",
       "    </tr>\n",
       "    <tr>\n",
       "      <th>1</th>\n",
       "      <td>Desenvolvimento moderado</td>\n",
       "      <td>Desenvolvimento moderado</td>\n",
       "      <td>Desenvolvimento moderado</td>\n",
       "    </tr>\n",
       "    <tr>\n",
       "      <th>2</th>\n",
       "      <td>1º</td>\n",
       "      <td>Ariquemes</td>\n",
       "      <td>0.7746</td>\n",
       "    </tr>\n",
       "    <tr>\n",
       "      <th>3</th>\n",
       "      <td>2º</td>\n",
       "      <td>Vilhena</td>\n",
       "      <td>0.7465</td>\n",
       "    </tr>\n",
       "    <tr>\n",
       "      <th>4</th>\n",
       "      <td>3º</td>\n",
       "      <td>Pimenta Bueno</td>\n",
       "      <td>0.7383</td>\n",
       "    </tr>\n",
       "  </tbody>\n",
       "</table>\n",
       "</div>"
      ],
      "text/plain": [
       "       Desenvolvimento alto    Desenvolvimento alto.1  \\\n",
       "0          nenhum município          nenhum município   \n",
       "1  Desenvolvimento moderado  Desenvolvimento moderado   \n",
       "2                        1º                 Ariquemes   \n",
       "3                        2º                   Vilhena   \n",
       "4                        3º             Pimenta Bueno   \n",
       "\n",
       "     Desenvolvimento alto.2  \n",
       "0          nenhum município  \n",
       "1  Desenvolvimento moderado  \n",
       "2                    0.7746  \n",
       "3                    0.7465  \n",
       "4                    0.7383  "
      ]
     },
     "execution_count": 1129,
     "metadata": {},
     "output_type": "execute_result"
    }
   ],
   "source": [
    "IFDM.head()"
   ]
  },
  {
   "cell_type": "code",
   "execution_count": 1130,
   "metadata": {},
   "outputs": [],
   "source": [
    "IFDM.drop({0, 1, 28, 55, 56}, inplace = True)"
   ]
  },
  {
   "cell_type": "code",
   "execution_count": 1131,
   "metadata": {},
   "outputs": [],
   "source": [
    "IFDM = IFDM.rename(columns = {'Desenvolvimento alto':'Posição',\n",
    "                           'Desenvolvimento alto.1': 'Município',\n",
    "                           'Desenvolvimento alto.2': 'IFDM'})"
   ]
  },
  {
   "cell_type": "code",
   "execution_count": 1132,
   "metadata": {},
   "outputs": [
    {
     "data": {
      "text/html": [
       "<div>\n",
       "<style scoped>\n",
       "    .dataframe tbody tr th:only-of-type {\n",
       "        vertical-align: middle;\n",
       "    }\n",
       "\n",
       "    .dataframe tbody tr th {\n",
       "        vertical-align: top;\n",
       "    }\n",
       "\n",
       "    .dataframe thead th {\n",
       "        text-align: right;\n",
       "    }\n",
       "</style>\n",
       "<table border=\"1\" class=\"dataframe\">\n",
       "  <thead>\n",
       "    <tr style=\"text-align: right;\">\n",
       "      <th></th>\n",
       "      <th>Posição</th>\n",
       "      <th>Município</th>\n",
       "      <th>IFDM</th>\n",
       "    </tr>\n",
       "  </thead>\n",
       "  <tbody>\n",
       "    <tr>\n",
       "      <th>0</th>\n",
       "      <td>1º</td>\n",
       "      <td>Ariquemes</td>\n",
       "      <td>0.7746</td>\n",
       "    </tr>\n",
       "    <tr>\n",
       "      <th>1</th>\n",
       "      <td>2º</td>\n",
       "      <td>Vilhena</td>\n",
       "      <td>0.7465</td>\n",
       "    </tr>\n",
       "    <tr>\n",
       "      <th>2</th>\n",
       "      <td>3º</td>\n",
       "      <td>Pimenta Bueno</td>\n",
       "      <td>0.7383</td>\n",
       "    </tr>\n",
       "    <tr>\n",
       "      <th>3</th>\n",
       "      <td>4º</td>\n",
       "      <td>Porto Velho</td>\n",
       "      <td>0.7257</td>\n",
       "    </tr>\n",
       "    <tr>\n",
       "      <th>4</th>\n",
       "      <td>5º</td>\n",
       "      <td>Ji-Paraná</td>\n",
       "      <td>0.7117</td>\n",
       "    </tr>\n",
       "  </tbody>\n",
       "</table>\n",
       "</div>"
      ],
      "text/plain": [
       "  Posição      Município    IFDM\n",
       "0      1º      Ariquemes  0.7746\n",
       "1      2º        Vilhena  0.7465\n",
       "2      3º  Pimenta Bueno  0.7383\n",
       "3      4º    Porto Velho  0.7257\n",
       "4      5º      Ji-Paraná  0.7117"
      ]
     },
     "execution_count": 1132,
     "metadata": {},
     "output_type": "execute_result"
    }
   ],
   "source": [
    "IFDM.reset_index(drop=True).head()"
   ]
  },
  {
   "cell_type": "code",
   "execution_count": 1133,
   "metadata": {},
   "outputs": [],
   "source": [
    "IFDM.drop(['Posição'], axis=1, inplace=True)"
   ]
  },
  {
   "cell_type": "code",
   "execution_count": 1134,
   "metadata": {},
   "outputs": [
    {
     "data": {
      "text/plain": [
       "(52, 2)"
      ]
     },
     "execution_count": 1134,
     "metadata": {},
     "output_type": "execute_result"
    }
   ],
   "source": [
    "IFDM.shape"
   ]
  },
  {
   "cell_type": "markdown",
   "metadata": {},
   "source": [
    "O índice varia de zero (valor mínimo) até 1 (valor máximo), sendo considerado:\n",
    "\n",
    "Alto, resultados superiores a 0,8 pontos;\n",
    "Moderado, resultados entre 0,6 e 0,8 pontos;\n",
    "Regular, resultados entre 0,4 e 0,6 pontos;\n",
    "Baixo, resultados inferiores a 0,4 pontos;"
   ]
  },
  {
   "cell_type": "markdown",
   "metadata": {},
   "source": [
    "## PIB\n",
    "C - https://pt.wikipedia.org/wiki/Lista_de_munic%C3%ADpios_de_Rond%C3%B4nia_por_PIB\n"
   ]
  },
  {
   "cell_type": "markdown",
   "metadata": {},
   "source": [
    "As tabelas de PIB, estão separadas dentro da página, sendo assim fiz uma tabela auxiliar para conseguir baixá-la."
   ]
  },
  {
   "cell_type": "code",
   "execution_count": 1135,
   "metadata": {},
   "outputs": [],
   "source": [
    "PIB = pd.read_csv('PIB_RO_por_município.csv')"
   ]
  },
  {
   "cell_type": "code",
   "execution_count": 1136,
   "metadata": {},
   "outputs": [],
   "source": [
    "PIB = pd.DataFrame(PIB)"
   ]
  },
  {
   "cell_type": "code",
   "execution_count": 1137,
   "metadata": {},
   "outputs": [
    {
     "data": {
      "text/html": [
       "<div>\n",
       "<style scoped>\n",
       "    .dataframe tbody tr th:only-of-type {\n",
       "        vertical-align: middle;\n",
       "    }\n",
       "\n",
       "    .dataframe tbody tr th {\n",
       "        vertical-align: top;\n",
       "    }\n",
       "\n",
       "    .dataframe thead th {\n",
       "        text-align: right;\n",
       "    }\n",
       "</style>\n",
       "<table border=\"1\" class=\"dataframe\">\n",
       "  <thead>\n",
       "    <tr style=\"text-align: right;\">\n",
       "      <th></th>\n",
       "      <th>Município</th>\n",
       "      <th>PIB</th>\n",
       "    </tr>\n",
       "  </thead>\n",
       "  <tbody>\n",
       "    <tr>\n",
       "      <th>0</th>\n",
       "      <td>Porto Velho</td>\n",
       "      <td>17912070</td>\n",
       "    </tr>\n",
       "    <tr>\n",
       "      <th>1</th>\n",
       "      <td>Ji-Paraná</td>\n",
       "      <td>3783972</td>\n",
       "    </tr>\n",
       "    <tr>\n",
       "      <th>2</th>\n",
       "      <td>Vilhena</td>\n",
       "      <td>2831175</td>\n",
       "    </tr>\n",
       "    <tr>\n",
       "      <th>3</th>\n",
       "      <td>Ariquemes</td>\n",
       "      <td>2579830</td>\n",
       "    </tr>\n",
       "    <tr>\n",
       "      <th>4</th>\n",
       "      <td>Cacoal</td>\n",
       "      <td>2261644</td>\n",
       "    </tr>\n",
       "  </tbody>\n",
       "</table>\n",
       "</div>"
      ],
      "text/plain": [
       "     Município       PIB\n",
       "0  Porto Velho  17912070\n",
       "1    Ji-Paraná   3783972\n",
       "2      Vilhena   2831175\n",
       "3    Ariquemes   2579830\n",
       "4       Cacoal   2261644"
      ]
     },
     "execution_count": 1137,
     "metadata": {},
     "output_type": "execute_result"
    }
   ],
   "source": [
    "PIB.head()"
   ]
  },
  {
   "cell_type": "code",
   "execution_count": 1138,
   "metadata": {},
   "outputs": [
    {
     "data": {
      "text/plain": [
       "(52, 2)"
      ]
     },
     "execution_count": 1138,
     "metadata": {},
     "output_type": "execute_result"
    }
   ],
   "source": [
    "PIB.shape"
   ]
  },
  {
   "cell_type": "markdown",
   "metadata": {},
   "source": [
    "Acima, pegamos as 3 tabelas de IDH, IFDM e PIB. agora vamos unir elas, tendo como base o Município e para fazer os insights pedidos no próximo exercício."
   ]
  },
  {
   "cell_type": "code",
   "execution_count": 1139,
   "metadata": {
    "scrolled": true
   },
   "outputs": [],
   "source": [
    "PIB_IFDM = PIB.merge(IFDM)"
   ]
  },
  {
   "cell_type": "code",
   "execution_count": 1140,
   "metadata": {},
   "outputs": [],
   "source": [
    "PIB_IFDM_IDH = PIB_IFDM.merge(IDH)"
   ]
  },
  {
   "cell_type": "code",
   "execution_count": 1141,
   "metadata": {},
   "outputs": [
    {
     "data": {
      "text/html": [
       "<div>\n",
       "<style scoped>\n",
       "    .dataframe tbody tr th:only-of-type {\n",
       "        vertical-align: middle;\n",
       "    }\n",
       "\n",
       "    .dataframe tbody tr th {\n",
       "        vertical-align: top;\n",
       "    }\n",
       "\n",
       "    .dataframe thead th {\n",
       "        text-align: right;\n",
       "    }\n",
       "</style>\n",
       "<table border=\"1\" class=\"dataframe\">\n",
       "  <thead>\n",
       "    <tr style=\"text-align: right;\">\n",
       "      <th></th>\n",
       "      <th>Município</th>\n",
       "      <th>PIB</th>\n",
       "      <th>IFDM</th>\n",
       "      <th>IDH_municipal</th>\n",
       "      <th>IDH_renda</th>\n",
       "      <th>IDH_longevidade</th>\n",
       "      <th>ID_educação</th>\n",
       "    </tr>\n",
       "  </thead>\n",
       "  <tbody>\n",
       "    <tr>\n",
       "      <th>0</th>\n",
       "      <td>Porto Velho</td>\n",
       "      <td>17912070</td>\n",
       "      <td>0.7257</td>\n",
       "      <td>0.736</td>\n",
       "      <td>0.764</td>\n",
       "      <td>0.819</td>\n",
       "      <td>0.638</td>\n",
       "    </tr>\n",
       "    <tr>\n",
       "      <th>1</th>\n",
       "      <td>Ji-Paraná</td>\n",
       "      <td>3783972</td>\n",
       "      <td>0.7117</td>\n",
       "      <td>0.714</td>\n",
       "      <td>0.728</td>\n",
       "      <td>0.810</td>\n",
       "      <td>0.617</td>\n",
       "    </tr>\n",
       "    <tr>\n",
       "      <th>2</th>\n",
       "      <td>Vilhena</td>\n",
       "      <td>2831175</td>\n",
       "      <td>0.7465</td>\n",
       "      <td>0.731</td>\n",
       "      <td>0.734</td>\n",
       "      <td>0.808</td>\n",
       "      <td>0.659</td>\n",
       "    </tr>\n",
       "    <tr>\n",
       "      <th>3</th>\n",
       "      <td>Ariquemes</td>\n",
       "      <td>2579830</td>\n",
       "      <td>0.7746</td>\n",
       "      <td>0.702</td>\n",
       "      <td>0.716</td>\n",
       "      <td>0.806</td>\n",
       "      <td>0.600</td>\n",
       "    </tr>\n",
       "    <tr>\n",
       "      <th>4</th>\n",
       "      <td>Cacoal</td>\n",
       "      <td>2261644</td>\n",
       "      <td>0.7111</td>\n",
       "      <td>0.718</td>\n",
       "      <td>0.727</td>\n",
       "      <td>0.821</td>\n",
       "      <td>0.620</td>\n",
       "    </tr>\n",
       "  </tbody>\n",
       "</table>\n",
       "</div>"
      ],
      "text/plain": [
       "     Município       PIB    IFDM IDH_municipal IDH_renda IDH_longevidade  \\\n",
       "0  Porto Velho  17912070  0.7257         0.736     0.764           0.819   \n",
       "1    Ji-Paraná   3783972  0.7117         0.714     0.728           0.810   \n",
       "2      Vilhena   2831175  0.7465         0.731     0.734           0.808   \n",
       "3    Ariquemes   2579830  0.7746         0.702     0.716           0.806   \n",
       "4       Cacoal   2261644  0.7111         0.718     0.727           0.821   \n",
       "\n",
       "  ID_educação  \n",
       "0       0.638  \n",
       "1       0.617  \n",
       "2       0.659  \n",
       "3       0.600  \n",
       "4       0.620  "
      ]
     },
     "execution_count": 1141,
     "metadata": {},
     "output_type": "execute_result"
    }
   ],
   "source": [
    "PIB_IFDM_IDH.head()"
   ]
  },
  {
   "cell_type": "markdown",
   "metadata": {},
   "source": [
    "Vamos agora, trazer alguns dados da planilha 'base', sinasc_raw. Faremos isso para depois compilar ao merge das 3 tabelas e conseguirmos uma boa planilhas para bucar os insights"
   ]
  },
  {
   "cell_type": "markdown",
   "metadata": {},
   "source": [
    "IDADEMAE, PESO, APGAR5 - foram as informações que decidi separar, além no NomMun que seria a coluna base."
   ]
  },
  {
   "cell_type": "code",
   "execution_count": 1142,
   "metadata": {},
   "outputs": [],
   "source": [
    "sinasc_consolidada = sinasc_raw[['munResNome', 'IDADEMAE', 'PESO', 'APGAR5']]"
   ]
  },
  {
   "cell_type": "code",
   "execution_count": 1143,
   "metadata": {},
   "outputs": [
    {
     "data": {
      "text/html": [
       "<div>\n",
       "<style scoped>\n",
       "    .dataframe tbody tr th:only-of-type {\n",
       "        vertical-align: middle;\n",
       "    }\n",
       "\n",
       "    .dataframe tbody tr th {\n",
       "        vertical-align: top;\n",
       "    }\n",
       "\n",
       "    .dataframe thead th {\n",
       "        text-align: right;\n",
       "    }\n",
       "</style>\n",
       "<table border=\"1\" class=\"dataframe\">\n",
       "  <thead>\n",
       "    <tr style=\"text-align: right;\">\n",
       "      <th></th>\n",
       "      <th>munResNome</th>\n",
       "      <th>IDADEMAE</th>\n",
       "      <th>PESO</th>\n",
       "      <th>APGAR5</th>\n",
       "    </tr>\n",
       "  </thead>\n",
       "  <tbody>\n",
       "    <tr>\n",
       "      <th>0</th>\n",
       "      <td>Alta Floresta D'Oeste</td>\n",
       "      <td>19</td>\n",
       "      <td>3685</td>\n",
       "      <td>10.0</td>\n",
       "    </tr>\n",
       "    <tr>\n",
       "      <th>1</th>\n",
       "      <td>Alta Floresta D'Oeste</td>\n",
       "      <td>29</td>\n",
       "      <td>3055</td>\n",
       "      <td>9.0</td>\n",
       "    </tr>\n",
       "    <tr>\n",
       "      <th>2</th>\n",
       "      <td>Alta Floresta D'Oeste</td>\n",
       "      <td>37</td>\n",
       "      <td>3460</td>\n",
       "      <td>10.0</td>\n",
       "    </tr>\n",
       "    <tr>\n",
       "      <th>3</th>\n",
       "      <td>Alto Alegre dos Parecis</td>\n",
       "      <td>30</td>\n",
       "      <td>2982</td>\n",
       "      <td>10.0</td>\n",
       "    </tr>\n",
       "    <tr>\n",
       "      <th>4</th>\n",
       "      <td>Alta Floresta D'Oeste</td>\n",
       "      <td>30</td>\n",
       "      <td>3310</td>\n",
       "      <td>10.0</td>\n",
       "    </tr>\n",
       "  </tbody>\n",
       "</table>\n",
       "</div>"
      ],
      "text/plain": [
       "                munResNome  IDADEMAE  PESO  APGAR5\n",
       "0    Alta Floresta D'Oeste        19  3685    10.0\n",
       "1    Alta Floresta D'Oeste        29  3055     9.0\n",
       "2    Alta Floresta D'Oeste        37  3460    10.0\n",
       "3  Alto Alegre dos Parecis        30  2982    10.0\n",
       "4    Alta Floresta D'Oeste        30  3310    10.0"
      ]
     },
     "execution_count": 1143,
     "metadata": {},
     "output_type": "execute_result"
    }
   ],
   "source": [
    "sinasc_consolidada.head()"
   ]
  },
  {
   "cell_type": "code",
   "execution_count": 1144,
   "metadata": {},
   "outputs": [],
   "source": [
    "sinasc_consolidada = sinasc_consolidada.rename(columns = {'munResNome':'Município'})"
   ]
  },
  {
   "cell_type": "code",
   "execution_count": 1145,
   "metadata": {},
   "outputs": [],
   "source": [
    "sinasc_aux = sinasc_consolidada.groupby('Município')[['IDADEMAE', 'PESO', 'APGAR5']].mean()"
   ]
  },
  {
   "cell_type": "code",
   "execution_count": 1146,
   "metadata": {},
   "outputs": [
    {
     "data": {
      "text/plain": [
       "(53, 3)"
      ]
     },
     "execution_count": 1146,
     "metadata": {},
     "output_type": "execute_result"
    }
   ],
   "source": [
    "sinasc_aux.shape"
   ]
  },
  {
   "cell_type": "markdown",
   "metadata": {},
   "source": [
    "Vamos agora adicionar as informações de de IDH, PIB e etc, a esta base de dados com as informações de Idade da Mãe, Peso e APGAR5."
   ]
  },
  {
   "cell_type": "code",
   "execution_count": 1147,
   "metadata": {},
   "outputs": [
    {
     "data": {
      "text/html": [
       "<div>\n",
       "<style scoped>\n",
       "    .dataframe tbody tr th:only-of-type {\n",
       "        vertical-align: middle;\n",
       "    }\n",
       "\n",
       "    .dataframe tbody tr th {\n",
       "        vertical-align: top;\n",
       "    }\n",
       "\n",
       "    .dataframe thead th {\n",
       "        text-align: right;\n",
       "    }\n",
       "</style>\n",
       "<table border=\"1\" class=\"dataframe\">\n",
       "  <thead>\n",
       "    <tr style=\"text-align: right;\">\n",
       "      <th></th>\n",
       "      <th>IDADEMAE</th>\n",
       "      <th>PESO</th>\n",
       "      <th>APGAR5</th>\n",
       "    </tr>\n",
       "    <tr>\n",
       "      <th>Município</th>\n",
       "      <th></th>\n",
       "      <th></th>\n",
       "      <th></th>\n",
       "    </tr>\n",
       "  </thead>\n",
       "  <tbody>\n",
       "    <tr>\n",
       "      <th>Alta Floresta D'Oeste</th>\n",
       "      <td>25.991826</td>\n",
       "      <td>3240.841962</td>\n",
       "      <td>9.239782</td>\n",
       "    </tr>\n",
       "    <tr>\n",
       "      <th>Alto Alegre dos Parecis</th>\n",
       "      <td>24.844156</td>\n",
       "      <td>3261.383117</td>\n",
       "      <td>9.123377</td>\n",
       "    </tr>\n",
       "    <tr>\n",
       "      <th>Alto Paraíso</th>\n",
       "      <td>24.960177</td>\n",
       "      <td>3217.969027</td>\n",
       "      <td>9.296460</td>\n",
       "    </tr>\n",
       "    <tr>\n",
       "      <th>Alvorada D'Oeste</th>\n",
       "      <td>25.770732</td>\n",
       "      <td>3225.712195</td>\n",
       "      <td>9.126829</td>\n",
       "    </tr>\n",
       "    <tr>\n",
       "      <th>Ariquemes</th>\n",
       "      <td>25.607866</td>\n",
       "      <td>3251.362637</td>\n",
       "      <td>9.192597</td>\n",
       "    </tr>\n",
       "  </tbody>\n",
       "</table>\n",
       "</div>"
      ],
      "text/plain": [
       "                          IDADEMAE         PESO    APGAR5\n",
       "Município                                                \n",
       "Alta Floresta D'Oeste    25.991826  3240.841962  9.239782\n",
       "Alto Alegre dos Parecis  24.844156  3261.383117  9.123377\n",
       "Alto Paraíso             24.960177  3217.969027  9.296460\n",
       "Alvorada D'Oeste         25.770732  3225.712195  9.126829\n",
       "Ariquemes                25.607866  3251.362637  9.192597"
      ]
     },
     "execution_count": 1147,
     "metadata": {},
     "output_type": "execute_result"
    }
   ],
   "source": [
    "sinasc_aux.head()"
   ]
  },
  {
   "cell_type": "code",
   "execution_count": 1148,
   "metadata": {},
   "outputs": [
    {
     "data": {
      "text/html": [
       "<div>\n",
       "<style scoped>\n",
       "    .dataframe tbody tr th:only-of-type {\n",
       "        vertical-align: middle;\n",
       "    }\n",
       "\n",
       "    .dataframe tbody tr th {\n",
       "        vertical-align: top;\n",
       "    }\n",
       "\n",
       "    .dataframe thead th {\n",
       "        text-align: right;\n",
       "    }\n",
       "</style>\n",
       "<table border=\"1\" class=\"dataframe\">\n",
       "  <thead>\n",
       "    <tr style=\"text-align: right;\">\n",
       "      <th></th>\n",
       "      <th>Município</th>\n",
       "      <th>PIB</th>\n",
       "      <th>IFDM</th>\n",
       "      <th>IDH_municipal</th>\n",
       "      <th>IDH_renda</th>\n",
       "      <th>IDH_longevidade</th>\n",
       "      <th>ID_educação</th>\n",
       "    </tr>\n",
       "  </thead>\n",
       "  <tbody>\n",
       "    <tr>\n",
       "      <th>0</th>\n",
       "      <td>Porto Velho</td>\n",
       "      <td>17912070</td>\n",
       "      <td>0.7257</td>\n",
       "      <td>0.736</td>\n",
       "      <td>0.764</td>\n",
       "      <td>0.819</td>\n",
       "      <td>0.638</td>\n",
       "    </tr>\n",
       "    <tr>\n",
       "      <th>1</th>\n",
       "      <td>Ji-Paraná</td>\n",
       "      <td>3783972</td>\n",
       "      <td>0.7117</td>\n",
       "      <td>0.714</td>\n",
       "      <td>0.728</td>\n",
       "      <td>0.810</td>\n",
       "      <td>0.617</td>\n",
       "    </tr>\n",
       "    <tr>\n",
       "      <th>2</th>\n",
       "      <td>Vilhena</td>\n",
       "      <td>2831175</td>\n",
       "      <td>0.7465</td>\n",
       "      <td>0.731</td>\n",
       "      <td>0.734</td>\n",
       "      <td>0.808</td>\n",
       "      <td>0.659</td>\n",
       "    </tr>\n",
       "    <tr>\n",
       "      <th>3</th>\n",
       "      <td>Ariquemes</td>\n",
       "      <td>2579830</td>\n",
       "      <td>0.7746</td>\n",
       "      <td>0.702</td>\n",
       "      <td>0.716</td>\n",
       "      <td>0.806</td>\n",
       "      <td>0.600</td>\n",
       "    </tr>\n",
       "    <tr>\n",
       "      <th>4</th>\n",
       "      <td>Cacoal</td>\n",
       "      <td>2261644</td>\n",
       "      <td>0.7111</td>\n",
       "      <td>0.718</td>\n",
       "      <td>0.727</td>\n",
       "      <td>0.821</td>\n",
       "      <td>0.620</td>\n",
       "    </tr>\n",
       "  </tbody>\n",
       "</table>\n",
       "</div>"
      ],
      "text/plain": [
       "     Município       PIB    IFDM IDH_municipal IDH_renda IDH_longevidade  \\\n",
       "0  Porto Velho  17912070  0.7257         0.736     0.764           0.819   \n",
       "1    Ji-Paraná   3783972  0.7117         0.714     0.728           0.810   \n",
       "2      Vilhena   2831175  0.7465         0.731     0.734           0.808   \n",
       "3    Ariquemes   2579830  0.7746         0.702     0.716           0.806   \n",
       "4       Cacoal   2261644  0.7111         0.718     0.727           0.821   \n",
       "\n",
       "  ID_educação  \n",
       "0       0.638  \n",
       "1       0.617  \n",
       "2       0.659  \n",
       "3       0.600  \n",
       "4       0.620  "
      ]
     },
     "execution_count": 1148,
     "metadata": {},
     "output_type": "execute_result"
    }
   ],
   "source": [
    "PIB_IFDM_IDH.head()"
   ]
  },
  {
   "cell_type": "code",
   "execution_count": 1149,
   "metadata": {},
   "outputs": [],
   "source": [
    "sinasc_geral = pd.merge(sinasc_aux, PIB_IFDM_IDH, how = 'outer', on='Município').dropna()"
   ]
  },
  {
   "cell_type": "code",
   "execution_count": 1150,
   "metadata": {},
   "outputs": [
    {
     "data": {
      "text/html": [
       "<div>\n",
       "<style scoped>\n",
       "    .dataframe tbody tr th:only-of-type {\n",
       "        vertical-align: middle;\n",
       "    }\n",
       "\n",
       "    .dataframe tbody tr th {\n",
       "        vertical-align: top;\n",
       "    }\n",
       "\n",
       "    .dataframe thead th {\n",
       "        text-align: right;\n",
       "    }\n",
       "</style>\n",
       "<table border=\"1\" class=\"dataframe\">\n",
       "  <thead>\n",
       "    <tr style=\"text-align: right;\">\n",
       "      <th></th>\n",
       "      <th>Município</th>\n",
       "      <th>IDADEMAE</th>\n",
       "      <th>PESO</th>\n",
       "      <th>APGAR5</th>\n",
       "      <th>PIB</th>\n",
       "      <th>IFDM</th>\n",
       "      <th>IDH_municipal</th>\n",
       "      <th>IDH_renda</th>\n",
       "      <th>IDH_longevidade</th>\n",
       "      <th>ID_educação</th>\n",
       "    </tr>\n",
       "  </thead>\n",
       "  <tbody>\n",
       "    <tr>\n",
       "      <th>1</th>\n",
       "      <td>Alto Alegre dos Parecis</td>\n",
       "      <td>24.844156</td>\n",
       "      <td>3261.383117</td>\n",
       "      <td>9.123377</td>\n",
       "      <td>213410.0</td>\n",
       "      <td>0.5046</td>\n",
       "      <td>0.592</td>\n",
       "      <td>0.603</td>\n",
       "      <td>0.777</td>\n",
       "      <td>0.443</td>\n",
       "    </tr>\n",
       "    <tr>\n",
       "      <th>2</th>\n",
       "      <td>Alto Paraíso</td>\n",
       "      <td>24.960177</td>\n",
       "      <td>3217.969027</td>\n",
       "      <td>9.296460</td>\n",
       "      <td>358000.0</td>\n",
       "      <td>0.5735</td>\n",
       "      <td>0.625</td>\n",
       "      <td>0.664</td>\n",
       "      <td>0.804</td>\n",
       "      <td>0.457</td>\n",
       "    </tr>\n",
       "    <tr>\n",
       "      <th>4</th>\n",
       "      <td>Ariquemes</td>\n",
       "      <td>25.607866</td>\n",
       "      <td>3251.362637</td>\n",
       "      <td>9.192597</td>\n",
       "      <td>2579830.0</td>\n",
       "      <td>0.7746</td>\n",
       "      <td>0.702</td>\n",
       "      <td>0.716</td>\n",
       "      <td>0.806</td>\n",
       "      <td>0.600</td>\n",
       "    </tr>\n",
       "    <tr>\n",
       "      <th>5</th>\n",
       "      <td>Buritis</td>\n",
       "      <td>25.559177</td>\n",
       "      <td>3229.876501</td>\n",
       "      <td>9.714777</td>\n",
       "      <td>726000.0</td>\n",
       "      <td>0.6199</td>\n",
       "      <td>0.616</td>\n",
       "      <td>0.650</td>\n",
       "      <td>0.751</td>\n",
       "      <td>0.479</td>\n",
       "    </tr>\n",
       "    <tr>\n",
       "      <th>6</th>\n",
       "      <td>Cabixi</td>\n",
       "      <td>26.037500</td>\n",
       "      <td>3336.100000</td>\n",
       "      <td>9.125000</td>\n",
       "      <td>113031.0</td>\n",
       "      <td>0.5887</td>\n",
       "      <td>0.650</td>\n",
       "      <td>0.650</td>\n",
       "      <td>0.757</td>\n",
       "      <td>0.559</td>\n",
       "    </tr>\n",
       "  </tbody>\n",
       "</table>\n",
       "</div>"
      ],
      "text/plain": [
       "                 Município   IDADEMAE         PESO    APGAR5        PIB  \\\n",
       "1  Alto Alegre dos Parecis  24.844156  3261.383117  9.123377   213410.0   \n",
       "2             Alto Paraíso  24.960177  3217.969027  9.296460   358000.0   \n",
       "4                Ariquemes  25.607866  3251.362637  9.192597  2579830.0   \n",
       "5                  Buritis  25.559177  3229.876501  9.714777   726000.0   \n",
       "6                   Cabixi  26.037500  3336.100000  9.125000   113031.0   \n",
       "\n",
       "     IFDM IDH_municipal IDH_renda IDH_longevidade ID_educação  \n",
       "1  0.5046         0.592     0.603           0.777       0.443  \n",
       "2  0.5735         0.625     0.664           0.804       0.457  \n",
       "4  0.7746         0.702     0.716           0.806       0.600  \n",
       "5  0.6199         0.616     0.650           0.751       0.479  \n",
       "6  0.5887         0.650     0.650           0.757       0.559  "
      ]
     },
     "execution_count": 1150,
     "metadata": {},
     "output_type": "execute_result"
    }
   ],
   "source": [
    "sinasc_geral.head()"
   ]
  },
  {
   "cell_type": "markdown",
   "metadata": {},
   "source": [
    "Temos a base de dados, o mapping manual para encaixar o IDH, IFDM e PIB em categorias, será muito trabalhoso, vamos usar o .cut para fazer a categorização."
   ]
  },
  {
   "cell_type": "markdown",
   "metadata": {},
   "source": [
    "IDH: O Índice de Desenvolvimento Humano varia de 0 até 1, e nesta lista é dividido em cinco categorias: IDH muito alto (0,800 – 1,000), IDH alto (0,700 – 0,799), IDH médio (0,600 0,699), IDH baixo (0,500 – 0,599) e IDH muito baixo (0,000 – 0,499)."
   ]
  },
  {
   "cell_type": "code",
   "execution_count": 1151,
   "metadata": {},
   "outputs": [
    {
     "data": {
      "text/plain": [
       "Município           object\n",
       "IDADEMAE           float64\n",
       "PESO               float64\n",
       "APGAR5             float64\n",
       "PIB                float64\n",
       "IFDM                object\n",
       "IDH_municipal       object\n",
       "IDH_renda           object\n",
       "IDH_longevidade     object\n",
       "ID_educação         object\n",
       "dtype: object"
      ]
     },
     "execution_count": 1151,
     "metadata": {},
     "output_type": "execute_result"
    }
   ],
   "source": [
    "sinasc_geral.dtypes"
   ]
  },
  {
   "cell_type": "code",
   "execution_count": 1152,
   "metadata": {},
   "outputs": [],
   "source": [
    "sinasc_geral['IDH_municipal'] = sinasc_geral['IDH_municipal'].astype(float)"
   ]
  },
  {
   "cell_type": "code",
   "execution_count": 1153,
   "metadata": {},
   "outputs": [
    {
     "data": {
      "text/plain": [
       "Município           object\n",
       "IDADEMAE           float64\n",
       "PESO               float64\n",
       "APGAR5             float64\n",
       "PIB                float64\n",
       "IFDM                object\n",
       "IDH_municipal      float64\n",
       "IDH_renda           object\n",
       "IDH_longevidade     object\n",
       "ID_educação         object\n",
       "dtype: object"
      ]
     },
     "execution_count": 1153,
     "metadata": {},
     "output_type": "execute_result"
    }
   ],
   "source": [
    "sinasc_geral.dtypes"
   ]
  },
  {
   "cell_type": "code",
   "execution_count": 1154,
   "metadata": {
    "scrolled": true
   },
   "outputs": [],
   "source": [
    "sinasc_geral['IDH_Categoria'] = pd.cut(sinasc_geral.IDH_municipal, \n",
    "                                       bins=[0, 0.5, 0.6, 0.7, 0.8, np.inf], \n",
    "                                       labels=['IDH muito baixo', ' IDH baixo','IDH médio', 'IDH alto', 'IDH muito alto'])"
   ]
  },
  {
   "cell_type": "markdown",
   "metadata": {},
   "source": [
    "IFDM: O índice varia de zero (valor mínimo) até 1 (valor máximo), sendo considerado:\n",
    "\n",
    "Alto, resultados superiores a 0,8 pontos;\n",
    "Moderado, resultados entre 0,6 e 0,8 pontos;\n",
    "Regular, resultados entre 0,4 e 0,6 pontos;\n",
    "Baixo, resultados inferiores a 0,4 pontos;"
   ]
  },
  {
   "cell_type": "code",
   "execution_count": 1155,
   "metadata": {},
   "outputs": [],
   "source": [
    "sinasc_geral['IFDM'] = sinasc_geral['IFDM'].astype(float)"
   ]
  },
  {
   "cell_type": "code",
   "execution_count": 1156,
   "metadata": {},
   "outputs": [],
   "source": [
    "sinasc_geral['IFDM_Categoria'] = pd.cut(sinasc_geral.IFDM, \n",
    "                                       bins=[0, 0.4, 0.6, 0.8, np.inf], \n",
    "                                       labels=['IFDM baixo', 'IFDM regular','IFDM moderado', 'IFDM alto'])"
   ]
  },
  {
   "cell_type": "markdown",
   "metadata": {},
   "source": [
    "PIB: Aqui não existe uma categoriazação adjetiva, os parametros estão nas quantidades:\n",
    "Acima de 1 bilhão, Acima de 500 Milhões, Acima de 300 Milhões, Acima de 200 Milhões, Acima de 100 Milhões ou Abaixo de 100 Milhões."
   ]
  },
  {
   "cell_type": "code",
   "execution_count": 1158,
   "metadata": {
    "scrolled": true
   },
   "outputs": [],
   "source": [
    "sinasc_geral['PIB'] = sinasc_geral['PIB'].astype(int)"
   ]
  },
  {
   "cell_type": "code",
   "execution_count": 1159,
   "metadata": {},
   "outputs": [],
   "source": [
    "sinasc_geral['PIB_Categoria'] = pd.cut(sinasc_geral.PIB, \n",
    "                                       bins=[0, 100000, 200000, 300000, 500000, 1000000, np.inf], \n",
    "                                       labels=['Abaixo de 100 Milhões', 'Acima de 100 Milhões',\n",
    "                                               'Acima de 200 Milhões', 'Acima de 300 Milhões',\n",
    "                                               'Acima de 500 Milhões', 'Acima de 1 Bilhão'])"
   ]
  },
  {
   "cell_type": "markdown",
   "metadata": {},
   "source": [
    "Agora temos uma planilha com todas as informações necessárias para o próximo exercício."
   ]
  },
  {
   "cell_type": "code",
   "execution_count": 1160,
   "metadata": {
    "scrolled": true
   },
   "outputs": [
    {
     "data": {
      "text/html": [
       "<div>\n",
       "<style scoped>\n",
       "    .dataframe tbody tr th:only-of-type {\n",
       "        vertical-align: middle;\n",
       "    }\n",
       "\n",
       "    .dataframe tbody tr th {\n",
       "        vertical-align: top;\n",
       "    }\n",
       "\n",
       "    .dataframe thead th {\n",
       "        text-align: right;\n",
       "    }\n",
       "</style>\n",
       "<table border=\"1\" class=\"dataframe\">\n",
       "  <thead>\n",
       "    <tr style=\"text-align: right;\">\n",
       "      <th></th>\n",
       "      <th>Município</th>\n",
       "      <th>IDADEMAE</th>\n",
       "      <th>PESO</th>\n",
       "      <th>APGAR5</th>\n",
       "      <th>PIB</th>\n",
       "      <th>IFDM</th>\n",
       "      <th>IDH_municipal</th>\n",
       "      <th>IDH_renda</th>\n",
       "      <th>IDH_longevidade</th>\n",
       "      <th>ID_educação</th>\n",
       "      <th>IDH_Categoria</th>\n",
       "      <th>IFDM_Categoria</th>\n",
       "      <th>PIB_Categoria</th>\n",
       "    </tr>\n",
       "  </thead>\n",
       "  <tbody>\n",
       "    <tr>\n",
       "      <th>1</th>\n",
       "      <td>Alto Alegre dos Parecis</td>\n",
       "      <td>24.844156</td>\n",
       "      <td>3261.383117</td>\n",
       "      <td>9.123377</td>\n",
       "      <td>213410</td>\n",
       "      <td>0.5046</td>\n",
       "      <td>0.592</td>\n",
       "      <td>0.603</td>\n",
       "      <td>0.777</td>\n",
       "      <td>0.443</td>\n",
       "      <td>IDH baixo</td>\n",
       "      <td>IFDM regular</td>\n",
       "      <td>Acima de 200 Milhões</td>\n",
       "    </tr>\n",
       "    <tr>\n",
       "      <th>2</th>\n",
       "      <td>Alto Paraíso</td>\n",
       "      <td>24.960177</td>\n",
       "      <td>3217.969027</td>\n",
       "      <td>9.296460</td>\n",
       "      <td>358000</td>\n",
       "      <td>0.5735</td>\n",
       "      <td>0.625</td>\n",
       "      <td>0.664</td>\n",
       "      <td>0.804</td>\n",
       "      <td>0.457</td>\n",
       "      <td>IDH médio</td>\n",
       "      <td>IFDM regular</td>\n",
       "      <td>Acima de 300 Milhões</td>\n",
       "    </tr>\n",
       "    <tr>\n",
       "      <th>4</th>\n",
       "      <td>Ariquemes</td>\n",
       "      <td>25.607866</td>\n",
       "      <td>3251.362637</td>\n",
       "      <td>9.192597</td>\n",
       "      <td>2579830</td>\n",
       "      <td>0.7746</td>\n",
       "      <td>0.702</td>\n",
       "      <td>0.716</td>\n",
       "      <td>0.806</td>\n",
       "      <td>0.600</td>\n",
       "      <td>IDH alto</td>\n",
       "      <td>IFDM moderado</td>\n",
       "      <td>Acima de 1 Bilhão</td>\n",
       "    </tr>\n",
       "    <tr>\n",
       "      <th>5</th>\n",
       "      <td>Buritis</td>\n",
       "      <td>25.559177</td>\n",
       "      <td>3229.876501</td>\n",
       "      <td>9.714777</td>\n",
       "      <td>726000</td>\n",
       "      <td>0.6199</td>\n",
       "      <td>0.616</td>\n",
       "      <td>0.650</td>\n",
       "      <td>0.751</td>\n",
       "      <td>0.479</td>\n",
       "      <td>IDH médio</td>\n",
       "      <td>IFDM moderado</td>\n",
       "      <td>Acima de 500 Milhões</td>\n",
       "    </tr>\n",
       "    <tr>\n",
       "      <th>6</th>\n",
       "      <td>Cabixi</td>\n",
       "      <td>26.037500</td>\n",
       "      <td>3336.100000</td>\n",
       "      <td>9.125000</td>\n",
       "      <td>113031</td>\n",
       "      <td>0.5887</td>\n",
       "      <td>0.650</td>\n",
       "      <td>0.650</td>\n",
       "      <td>0.757</td>\n",
       "      <td>0.559</td>\n",
       "      <td>IDH médio</td>\n",
       "      <td>IFDM regular</td>\n",
       "      <td>Acima de 100 Milhões</td>\n",
       "    </tr>\n",
       "  </tbody>\n",
       "</table>\n",
       "</div>"
      ],
      "text/plain": [
       "                 Município   IDADEMAE         PESO    APGAR5      PIB    IFDM  \\\n",
       "1  Alto Alegre dos Parecis  24.844156  3261.383117  9.123377   213410  0.5046   \n",
       "2             Alto Paraíso  24.960177  3217.969027  9.296460   358000  0.5735   \n",
       "4                Ariquemes  25.607866  3251.362637  9.192597  2579830  0.7746   \n",
       "5                  Buritis  25.559177  3229.876501  9.714777   726000  0.6199   \n",
       "6                   Cabixi  26.037500  3336.100000  9.125000   113031  0.5887   \n",
       "\n",
       "   IDH_municipal IDH_renda IDH_longevidade ID_educação IDH_Categoria  \\\n",
       "1          0.592     0.603           0.777       0.443     IDH baixo   \n",
       "2          0.625     0.664           0.804       0.457     IDH médio   \n",
       "4          0.702     0.716           0.806       0.600      IDH alto   \n",
       "5          0.616     0.650           0.751       0.479     IDH médio   \n",
       "6          0.650     0.650           0.757       0.559     IDH médio   \n",
       "\n",
       "  IFDM_Categoria         PIB_Categoria  \n",
       "1   IFDM regular  Acima de 200 Milhões  \n",
       "2   IFDM regular  Acima de 300 Milhões  \n",
       "4  IFDM moderado     Acima de 1 Bilhão  \n",
       "5  IFDM moderado  Acima de 500 Milhões  \n",
       "6   IFDM regular  Acima de 100 Milhões  "
      ]
     },
     "execution_count": 1160,
     "metadata": {},
     "output_type": "execute_result"
    }
   ],
   "source": [
    "sinasc_geral.head()"
   ]
  },
  {
   "cell_type": "markdown",
   "metadata": {},
   "source": [
    "### Analise as respostas encontradas, tire algum insight delas, conte pra gente algo encontrado nos dados."
   ]
  },
  {
   "cell_type": "markdown",
   "metadata": {},
   "source": [
    "Exemplo:\n",
    "- Ah, descobri que a idade mediana das mulheres que deram a luz no ano de 2019 dos municipios com o PIB mais alto é a maior dentre todas."
   ]
  },
  {
   "cell_type": "code",
   "execution_count": 1171,
   "metadata": {},
   "outputs": [],
   "source": [
    "Informacoes_IDH = sinasc_geral.groupby('IDH_Categoria')[['IDADEMAE', 'PESO', 'APGAR5']].mean()"
   ]
  },
  {
   "cell_type": "code",
   "execution_count": 1185,
   "metadata": {},
   "outputs": [
    {
     "data": {
      "text/html": [
       "<div>\n",
       "<style scoped>\n",
       "    .dataframe tbody tr th:only-of-type {\n",
       "        vertical-align: middle;\n",
       "    }\n",
       "\n",
       "    .dataframe tbody tr th {\n",
       "        vertical-align: top;\n",
       "    }\n",
       "\n",
       "    .dataframe thead th {\n",
       "        text-align: right;\n",
       "    }\n",
       "</style>\n",
       "<table border=\"1\" class=\"dataframe\">\n",
       "  <thead>\n",
       "    <tr style=\"text-align: right;\">\n",
       "      <th></th>\n",
       "      <th>IDADEMAE</th>\n",
       "      <th>PESO</th>\n",
       "      <th>APGAR5</th>\n",
       "    </tr>\n",
       "    <tr>\n",
       "      <th>IDH_Categoria</th>\n",
       "      <th></th>\n",
       "      <th></th>\n",
       "      <th></th>\n",
       "    </tr>\n",
       "  </thead>\n",
       "  <tbody>\n",
       "    <tr>\n",
       "      <th>IDH baixo</th>\n",
       "      <td>25.35</td>\n",
       "      <td>3238.90</td>\n",
       "      <td>9.21</td>\n",
       "    </tr>\n",
       "    <tr>\n",
       "      <th>IDH médio</th>\n",
       "      <td>26.02</td>\n",
       "      <td>3237.09</td>\n",
       "      <td>9.18</td>\n",
       "    </tr>\n",
       "    <tr>\n",
       "      <th>IDH alto</th>\n",
       "      <td>26.13</td>\n",
       "      <td>3255.44</td>\n",
       "      <td>9.14</td>\n",
       "    </tr>\n",
       "  </tbody>\n",
       "</table>\n",
       "</div>"
      ],
      "text/plain": [
       "               IDADEMAE     PESO  APGAR5\n",
       "IDH_Categoria                           \n",
       " IDH baixo        25.35  3238.90    9.21\n",
       "IDH médio         26.02  3237.09    9.18\n",
       "IDH alto          26.13  3255.44    9.14"
      ]
     },
     "execution_count": 1185,
     "metadata": {},
     "output_type": "execute_result"
    }
   ],
   "source": [
    "Informacoes_IDH.dropna().round(2)"
   ]
  },
  {
   "cell_type": "markdown",
   "metadata": {},
   "source": [
    "Conforme vemos na tabela acima, a médias geral de Idade da Mãe, Peso e Apgar5 com base no IDH tem uma variação baixa."
   ]
  },
  {
   "cell_type": "code",
   "execution_count": 1186,
   "metadata": {},
   "outputs": [],
   "source": [
    "Informacoes_PIB = sinasc_geral.groupby('PIB_Categoria')[['IDADEMAE', 'PESO', 'APGAR5']].mean()"
   ]
  },
  {
   "cell_type": "code",
   "execution_count": 1188,
   "metadata": {},
   "outputs": [
    {
     "data": {
      "text/html": [
       "<div>\n",
       "<style scoped>\n",
       "    .dataframe tbody tr th:only-of-type {\n",
       "        vertical-align: middle;\n",
       "    }\n",
       "\n",
       "    .dataframe tbody tr th {\n",
       "        vertical-align: top;\n",
       "    }\n",
       "\n",
       "    .dataframe thead th {\n",
       "        text-align: right;\n",
       "    }\n",
       "</style>\n",
       "<table border=\"1\" class=\"dataframe\">\n",
       "  <thead>\n",
       "    <tr style=\"text-align: right;\">\n",
       "      <th></th>\n",
       "      <th>IDADEMAE</th>\n",
       "      <th>PESO</th>\n",
       "      <th>APGAR5</th>\n",
       "    </tr>\n",
       "    <tr>\n",
       "      <th>PIB_Categoria</th>\n",
       "      <th></th>\n",
       "      <th></th>\n",
       "      <th></th>\n",
       "    </tr>\n",
       "  </thead>\n",
       "  <tbody>\n",
       "    <tr>\n",
       "      <th>Abaixo de 100 Milhões</th>\n",
       "      <td>26.49</td>\n",
       "      <td>3201.41</td>\n",
       "      <td>9.08</td>\n",
       "    </tr>\n",
       "    <tr>\n",
       "      <th>Acima de 100 Milhões</th>\n",
       "      <td>25.77</td>\n",
       "      <td>3252.78</td>\n",
       "      <td>9.17</td>\n",
       "    </tr>\n",
       "    <tr>\n",
       "      <th>Acima de 200 Milhões</th>\n",
       "      <td>25.11</td>\n",
       "      <td>3235.47</td>\n",
       "      <td>9.31</td>\n",
       "    </tr>\n",
       "    <tr>\n",
       "      <th>Acima de 300 Milhões</th>\n",
       "      <td>25.70</td>\n",
       "      <td>3242.15</td>\n",
       "      <td>9.10</td>\n",
       "    </tr>\n",
       "    <tr>\n",
       "      <th>Acima de 500 Milhões</th>\n",
       "      <td>25.88</td>\n",
       "      <td>3234.47</td>\n",
       "      <td>9.35</td>\n",
       "    </tr>\n",
       "    <tr>\n",
       "      <th>Acima de 1 Bilhão</th>\n",
       "      <td>26.17</td>\n",
       "      <td>3254.22</td>\n",
       "      <td>9.13</td>\n",
       "    </tr>\n",
       "  </tbody>\n",
       "</table>\n",
       "</div>"
      ],
      "text/plain": [
       "                       IDADEMAE     PESO  APGAR5\n",
       "PIB_Categoria                                   \n",
       "Abaixo de 100 Milhões     26.49  3201.41    9.08\n",
       "Acima de 100 Milhões      25.77  3252.78    9.17\n",
       "Acima de 200 Milhões      25.11  3235.47    9.31\n",
       "Acima de 300 Milhões      25.70  3242.15    9.10\n",
       "Acima de 500 Milhões      25.88  3234.47    9.35\n",
       "Acima de 1 Bilhão         26.17  3254.22    9.13"
      ]
     },
     "execution_count": 1188,
     "metadata": {},
     "output_type": "execute_result"
    }
   ],
   "source": [
    "Informacoes_PIB.round(2)"
   ]
  },
  {
   "cell_type": "markdown",
   "metadata": {},
   "source": [
    "Usando o PIB como parametro, já começamos a ver algumas informações interessantes.\n",
    "A idade média da mãe, primeiro gráfico, prefiro descartar, pois as médias estão dentro de 25 a 26,5 anos. O que consideramos uma idade saudavel para as mães.\n",
    "\n",
    "Para Peso, gráfico 2 e APGAR5, gráfico 3. Os locais com PIB abaixo de 100 Milhões tem uma médias mais baixa."
   ]
  },
  {
   "cell_type": "code",
   "execution_count": 1190,
   "metadata": {},
   "outputs": [
    {
     "data": {
      "text/plain": [
       "array([<AxesSubplot:xlabel='PIB_Categoria'>,\n",
       "       <AxesSubplot:xlabel='PIB_Categoria'>,\n",
       "       <AxesSubplot:xlabel='PIB_Categoria'>], dtype=object)"
      ]
     },
     "execution_count": 1190,
     "metadata": {},
     "output_type": "execute_result"
    },
    {
     "data": {
      "image/png": "[encoded data removed]",
      "text/plain": [
       "<Figure size 864x720 with 3 Axes>"
      ]
     },
     "metadata": {
      "needs_background": "light"
     },
     "output_type": "display_data"
    }
   ],
   "source": [
    "Informacoes_PIB.round(2).plot.line(figsize=(12,10), subplots=True)"
   ]
  },
  {
   "cell_type": "code",
   "execution_count": 1191,
   "metadata": {},
   "outputs": [],
   "source": [
    "Informacoes_IFDM = sinasc_geral.groupby('IFDM_Categoria')[['IDADEMAE', 'PESO', 'APGAR5']].mean()"
   ]
  },
  {
   "cell_type": "code",
   "execution_count": 1194,
   "metadata": {},
   "outputs": [
    {
     "data": {
      "text/html": [
       "<div>\n",
       "<style scoped>\n",
       "    .dataframe tbody tr th:only-of-type {\n",
       "        vertical-align: middle;\n",
       "    }\n",
       "\n",
       "    .dataframe tbody tr th {\n",
       "        vertical-align: top;\n",
       "    }\n",
       "\n",
       "    .dataframe thead th {\n",
       "        text-align: right;\n",
       "    }\n",
       "</style>\n",
       "<table border=\"1\" class=\"dataframe\">\n",
       "  <thead>\n",
       "    <tr style=\"text-align: right;\">\n",
       "      <th></th>\n",
       "      <th>IDADEMAE</th>\n",
       "      <th>PESO</th>\n",
       "      <th>APGAR5</th>\n",
       "    </tr>\n",
       "    <tr>\n",
       "      <th>IFDM_Categoria</th>\n",
       "      <th></th>\n",
       "      <th></th>\n",
       "      <th></th>\n",
       "    </tr>\n",
       "  </thead>\n",
       "  <tbody>\n",
       "    <tr>\n",
       "      <th>IFDM regular</th>\n",
       "      <td>25.69</td>\n",
       "      <td>3241.85</td>\n",
       "      <td>9.19</td>\n",
       "    </tr>\n",
       "    <tr>\n",
       "      <th>IFDM moderado</th>\n",
       "      <td>26.14</td>\n",
       "      <td>3237.96</td>\n",
       "      <td>9.17</td>\n",
       "    </tr>\n",
       "  </tbody>\n",
       "</table>\n",
       "</div>"
      ],
      "text/plain": [
       "                IDADEMAE     PESO  APGAR5\n",
       "IFDM_Categoria                           \n",
       "IFDM regular       25.69  3241.85    9.19\n",
       "IFDM moderado      26.14  3237.96    9.17"
      ]
     },
     "execution_count": 1194,
     "metadata": {},
     "output_type": "execute_result"
    }
   ],
   "source": [
    "Informacoes_IFDM.round(2).dropna()"
   ]
  },
  {
   "cell_type": "markdown",
   "metadata": {},
   "source": [
    "Como os IFDM são: Moderado e Regular, a média geral acaba ficando muito próxima."
   ]
  }
 ],
 "metadata": {
  "kernelspec": {
   "display_name": "Python 3 (ipykernel)",
   "language": "python",
   "name": "python3"
  },
  "language_info": {
   "codemirror_mode": {
    "name": "ipython",
    "version": 3
   },
   "file_extension": ".py",
   "mimetype": "text/x-python",
   "name": "python",
   "nbconvert_exporter": "python",
   "pygments_lexer": "ipython3",
   "version": "3.9.12"
  },
  "toc": {
   "base_numbering": 1,
   "nav_menu": {},
   "number_sections": true,
   "sideBar": true,
   "skip_h1_title": false,
   "title_cell": "Table of Contents",
   "title_sidebar": "Contents",
   "toc_cell": false,
   "toc_position": {},
   "toc_section_display": true,
   "toc_window_display": true
  },
  "varInspector": {
   "cols": {
    "lenName": 16,
    "lenType": 16,
    "lenVar": 40
   },
   "kernels_config": {
    "python": {
     "delete_cmd_postfix": "",
     "delete_cmd_prefix": "del ",
     "library": "var_list.py",
     "varRefreshCmd": "print(var_dic_list())"
    },
    "r": {
     "delete_cmd_postfix": ") ",
     "delete_cmd_prefix": "rm(",
     "library": "var_list.r",
     "varRefreshCmd": "cat(var_dic_list()) "
    }
   },
   "types_to_exclude": [
    "module",
    "function",
    "builtin_function_or_method",
    "instance",
    "_Feature"
   ],
   "window_display": false
  }
 },
 "nbformat": 4,
 "nbformat_minor": 4
}
